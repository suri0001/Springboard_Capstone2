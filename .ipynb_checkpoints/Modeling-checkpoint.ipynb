{
 "cells": [
  {
   "cell_type": "code",
   "execution_count": 71,
   "metadata": {},
   "outputs": [],
   "source": [
    "import numpy as np\n",
    "import pandas as pd\n",
    "from fbprophet import Prophet\n",
    "from sklearn import metrics\n",
    "from sklearn.ensemble import RandomForestRegressor\n",
    "from sklearn.model_selection import RandomizedSearchCV\n",
    "from scipy.stats import uniform\n",
    "import copy"
   ]
  },
  {
   "cell_type": "markdown",
   "metadata": {},
   "source": [
    "# Introduction\n",
    "\n",
    "The basis of the model will be the Facebook Prophet package. But, the first thing we need to do is load the preprocessed data.\n"
   ]
  },
  {
   "cell_type": "code",
   "execution_count": 72,
   "metadata": {},
   "outputs": [],
   "source": [
    "df = pd.read_csv(\"data/preprocessed.csv\")"
   ]
  },
  {
   "cell_type": "code",
   "execution_count": 73,
   "metadata": {},
   "outputs": [
    {
     "data": {
      "text/html": [
       "<div>\n",
       "<style scoped>\n",
       "    .dataframe tbody tr th:only-of-type {\n",
       "        vertical-align: middle;\n",
       "    }\n",
       "\n",
       "    .dataframe tbody tr th {\n",
       "        vertical-align: top;\n",
       "    }\n",
       "\n",
       "    .dataframe thead th {\n",
       "        text-align: right;\n",
       "    }\n",
       "</style>\n",
       "<table border=\"1\" class=\"dataframe\">\n",
       "  <thead>\n",
       "    <tr style=\"text-align: right;\">\n",
       "      <th></th>\n",
       "      <th>ds</th>\n",
       "      <th>y</th>\n",
       "    </tr>\n",
       "  </thead>\n",
       "  <tbody>\n",
       "    <tr>\n",
       "      <th>0</th>\n",
       "      <td>2015-07-01 05:00:00</td>\n",
       "      <td>162827.0</td>\n",
       "    </tr>\n",
       "    <tr>\n",
       "      <th>1</th>\n",
       "      <td>2015-07-01 06:00:00</td>\n",
       "      <td>335153.0</td>\n",
       "    </tr>\n",
       "    <tr>\n",
       "      <th>2</th>\n",
       "      <td>2015-07-01 07:00:00</td>\n",
       "      <td>333837.0</td>\n",
       "    </tr>\n",
       "    <tr>\n",
       "      <th>3</th>\n",
       "      <td>2015-07-01 08:00:00</td>\n",
       "      <td>398386.0</td>\n",
       "    </tr>\n",
       "    <tr>\n",
       "      <th>4</th>\n",
       "      <td>2015-07-01 09:00:00</td>\n",
       "      <td>388954.0</td>\n",
       "    </tr>\n",
       "  </tbody>\n",
       "</table>\n",
       "</div>"
      ],
      "text/plain": [
       "                    ds         y\n",
       "0  2015-07-01 05:00:00  162827.0\n",
       "1  2015-07-01 06:00:00  335153.0\n",
       "2  2015-07-01 07:00:00  333837.0\n",
       "3  2015-07-01 08:00:00  398386.0\n",
       "4  2015-07-01 09:00:00  388954.0"
      ]
     },
     "execution_count": 73,
     "metadata": {},
     "output_type": "execute_result"
    }
   ],
   "source": [
    "df = df[df.columns[1:]]\n",
    "df.head()"
   ]
  },
  {
   "cell_type": "markdown",
   "metadata": {},
   "source": [
    "Now we run the model with a 75-25 train test split."
   ]
  },
  {
   "cell_type": "code",
   "execution_count": 74,
   "metadata": {},
   "outputs": [
    {
     "data": {
      "text/plain": [
       "True"
      ]
     },
     "execution_count": 74,
     "metadata": {},
     "output_type": "execute_result"
    }
   ],
   "source": [
    "spoint = int(df.shape[0]*0.75)\n",
    "train_df = df.iloc[:spoint]\n",
    "test_df = df.iloc[spoint:]\n",
    "#Check split since I did it manually\n",
    "train_df.shape[0] + test_df.shape[0] == df.shape[0]"
   ]
  },
  {
   "cell_type": "markdown",
   "metadata": {},
   "source": [
    "Now we train the basic models"
   ]
  },
  {
   "cell_type": "code",
   "execution_count": 75,
   "metadata": {},
   "outputs": [
    {
     "data": {
      "text/plain": [
       "<fbprophet.forecaster.Prophet at 0x16af28cef70>"
      ]
     },
     "execution_count": 75,
     "metadata": {},
     "output_type": "execute_result"
    }
   ],
   "source": [
    "model = Prophet()\n",
    "model.fit(train_df)"
   ]
  },
  {
   "cell_type": "code",
   "execution_count": 76,
   "metadata": {},
   "outputs": [
    {
     "data": {
      "text/html": [
       "<div>\n",
       "<style scoped>\n",
       "    .dataframe tbody tr th:only-of-type {\n",
       "        vertical-align: middle;\n",
       "    }\n",
       "\n",
       "    .dataframe tbody tr th {\n",
       "        vertical-align: top;\n",
       "    }\n",
       "\n",
       "    .dataframe thead th {\n",
       "        text-align: right;\n",
       "    }\n",
       "</style>\n",
       "<table border=\"1\" class=\"dataframe\">\n",
       "  <thead>\n",
       "    <tr style=\"text-align: right;\">\n",
       "      <th></th>\n",
       "      <th>ds</th>\n",
       "      <th>trend</th>\n",
       "      <th>yhat_lower</th>\n",
       "      <th>yhat_upper</th>\n",
       "      <th>trend_lower</th>\n",
       "      <th>trend_upper</th>\n",
       "      <th>additive_terms</th>\n",
       "      <th>additive_terms_lower</th>\n",
       "      <th>additive_terms_upper</th>\n",
       "      <th>daily</th>\n",
       "      <th>...</th>\n",
       "      <th>weekly</th>\n",
       "      <th>weekly_lower</th>\n",
       "      <th>weekly_upper</th>\n",
       "      <th>yearly</th>\n",
       "      <th>yearly_lower</th>\n",
       "      <th>yearly_upper</th>\n",
       "      <th>multiplicative_terms</th>\n",
       "      <th>multiplicative_terms_lower</th>\n",
       "      <th>multiplicative_terms_upper</th>\n",
       "      <th>yhat</th>\n",
       "    </tr>\n",
       "  </thead>\n",
       "  <tbody>\n",
       "    <tr>\n",
       "      <th>0</th>\n",
       "      <td>2015-07-01 05:00:00</td>\n",
       "      <td>432089.920648</td>\n",
       "      <td>428110.696370</td>\n",
       "      <td>517390.915340</td>\n",
       "      <td>432089.920648</td>\n",
       "      <td>432089.920648</td>\n",
       "      <td>38640.777508</td>\n",
       "      <td>38640.777508</td>\n",
       "      <td>38640.777508</td>\n",
       "      <td>-25279.942936</td>\n",
       "      <td>...</td>\n",
       "      <td>11005.316492</td>\n",
       "      <td>11005.316492</td>\n",
       "      <td>11005.316492</td>\n",
       "      <td>52915.403951</td>\n",
       "      <td>52915.403951</td>\n",
       "      <td>52915.403951</td>\n",
       "      <td>0.0</td>\n",
       "      <td>0.0</td>\n",
       "      <td>0.0</td>\n",
       "      <td>470730.698156</td>\n",
       "    </tr>\n",
       "    <tr>\n",
       "      <th>1</th>\n",
       "      <td>2015-07-01 06:00:00</td>\n",
       "      <td>432093.576126</td>\n",
       "      <td>402058.609139</td>\n",
       "      <td>493360.046875</td>\n",
       "      <td>432093.576126</td>\n",
       "      <td>432093.576126</td>\n",
       "      <td>16304.402767</td>\n",
       "      <td>16304.402767</td>\n",
       "      <td>16304.402767</td>\n",
       "      <td>-47721.157660</td>\n",
       "      <td>...</td>\n",
       "      <td>11030.513571</td>\n",
       "      <td>11030.513571</td>\n",
       "      <td>11030.513571</td>\n",
       "      <td>52995.046855</td>\n",
       "      <td>52995.046855</td>\n",
       "      <td>52995.046855</td>\n",
       "      <td>0.0</td>\n",
       "      <td>0.0</td>\n",
       "      <td>0.0</td>\n",
       "      <td>448397.978892</td>\n",
       "    </tr>\n",
       "    <tr>\n",
       "      <th>2</th>\n",
       "      <td>2015-07-01 07:00:00</td>\n",
       "      <td>432097.231603</td>\n",
       "      <td>386704.451059</td>\n",
       "      <td>480149.040575</td>\n",
       "      <td>432097.231603</td>\n",
       "      <td>432097.231603</td>\n",
       "      <td>-763.670208</td>\n",
       "      <td>-763.670208</td>\n",
       "      <td>-763.670208</td>\n",
       "      <td>-64916.221782</td>\n",
       "      <td>...</td>\n",
       "      <td>11077.716076</td>\n",
       "      <td>11077.716076</td>\n",
       "      <td>11077.716076</td>\n",
       "      <td>53074.835497</td>\n",
       "      <td>53074.835497</td>\n",
       "      <td>53074.835497</td>\n",
       "      <td>0.0</td>\n",
       "      <td>0.0</td>\n",
       "      <td>0.0</td>\n",
       "      <td>431333.561394</td>\n",
       "    </tr>\n",
       "    <tr>\n",
       "      <th>3</th>\n",
       "      <td>2015-07-01 08:00:00</td>\n",
       "      <td>432100.887080</td>\n",
       "      <td>377887.304382</td>\n",
       "      <td>466891.293891</td>\n",
       "      <td>432100.887080</td>\n",
       "      <td>432100.887080</td>\n",
       "      <td>-11441.822973</td>\n",
       "      <td>-11441.822973</td>\n",
       "      <td>-11441.822973</td>\n",
       "      <td>-75742.065391</td>\n",
       "      <td>...</td>\n",
       "      <td>11145.472993</td>\n",
       "      <td>11145.472993</td>\n",
       "      <td>11145.472993</td>\n",
       "      <td>53154.769424</td>\n",
       "      <td>53154.769424</td>\n",
       "      <td>53154.769424</td>\n",
       "      <td>0.0</td>\n",
       "      <td>0.0</td>\n",
       "      <td>0.0</td>\n",
       "      <td>420659.064106</td>\n",
       "    </tr>\n",
       "    <tr>\n",
       "      <th>4</th>\n",
       "      <td>2015-07-01 09:00:00</td>\n",
       "      <td>432104.542557</td>\n",
       "      <td>369102.358477</td>\n",
       "      <td>461170.252107</td>\n",
       "      <td>432104.542557</td>\n",
       "      <td>432104.542557</td>\n",
       "      <td>-14906.350065</td>\n",
       "      <td>-14906.350065</td>\n",
       "      <td>-14906.350065</td>\n",
       "      <td>-79373.208471</td>\n",
       "      <td>...</td>\n",
       "      <td>11232.010233</td>\n",
       "      <td>11232.010233</td>\n",
       "      <td>11232.010233</td>\n",
       "      <td>53234.848173</td>\n",
       "      <td>53234.848173</td>\n",
       "      <td>53234.848173</td>\n",
       "      <td>0.0</td>\n",
       "      <td>0.0</td>\n",
       "      <td>0.0</td>\n",
       "      <td>417198.192492</td>\n",
       "    </tr>\n",
       "  </tbody>\n",
       "</table>\n",
       "<p>5 rows × 22 columns</p>\n",
       "</div>"
      ],
      "text/plain": [
       "                   ds          trend     yhat_lower     yhat_upper  \\\n",
       "0 2015-07-01 05:00:00  432089.920648  428110.696370  517390.915340   \n",
       "1 2015-07-01 06:00:00  432093.576126  402058.609139  493360.046875   \n",
       "2 2015-07-01 07:00:00  432097.231603  386704.451059  480149.040575   \n",
       "3 2015-07-01 08:00:00  432100.887080  377887.304382  466891.293891   \n",
       "4 2015-07-01 09:00:00  432104.542557  369102.358477  461170.252107   \n",
       "\n",
       "     trend_lower    trend_upper  additive_terms  additive_terms_lower  \\\n",
       "0  432089.920648  432089.920648    38640.777508          38640.777508   \n",
       "1  432093.576126  432093.576126    16304.402767          16304.402767   \n",
       "2  432097.231603  432097.231603     -763.670208           -763.670208   \n",
       "3  432100.887080  432100.887080   -11441.822973         -11441.822973   \n",
       "4  432104.542557  432104.542557   -14906.350065         -14906.350065   \n",
       "\n",
       "   additive_terms_upper         daily  ...        weekly  weekly_lower  \\\n",
       "0          38640.777508 -25279.942936  ...  11005.316492  11005.316492   \n",
       "1          16304.402767 -47721.157660  ...  11030.513571  11030.513571   \n",
       "2           -763.670208 -64916.221782  ...  11077.716076  11077.716076   \n",
       "3         -11441.822973 -75742.065391  ...  11145.472993  11145.472993   \n",
       "4         -14906.350065 -79373.208471  ...  11232.010233  11232.010233   \n",
       "\n",
       "   weekly_upper        yearly  yearly_lower  yearly_upper  \\\n",
       "0  11005.316492  52915.403951  52915.403951  52915.403951   \n",
       "1  11030.513571  52995.046855  52995.046855  52995.046855   \n",
       "2  11077.716076  53074.835497  53074.835497  53074.835497   \n",
       "3  11145.472993  53154.769424  53154.769424  53154.769424   \n",
       "4  11232.010233  53234.848173  53234.848173  53234.848173   \n",
       "\n",
       "   multiplicative_terms  multiplicative_terms_lower  \\\n",
       "0                   0.0                         0.0   \n",
       "1                   0.0                         0.0   \n",
       "2                   0.0                         0.0   \n",
       "3                   0.0                         0.0   \n",
       "4                   0.0                         0.0   \n",
       "\n",
       "   multiplicative_terms_upper           yhat  \n",
       "0                         0.0  470730.698156  \n",
       "1                         0.0  448397.978892  \n",
       "2                         0.0  431333.561394  \n",
       "3                         0.0  420659.064106  \n",
       "4                         0.0  417198.192492  \n",
       "\n",
       "[5 rows x 22 columns]"
      ]
     },
     "execution_count": 76,
     "metadata": {},
     "output_type": "execute_result"
    }
   ],
   "source": [
    "eval_df = model.predict(pd.DataFrame(train_df['ds']))\n",
    "eval_df.head()"
   ]
  },
  {
   "cell_type": "code",
   "execution_count": 77,
   "metadata": {},
   "outputs": [
    {
     "name": "stdout",
     "output_type": "stream",
     "text": [
      "0.7824039517999025 0.687577002082496 0.7638128022011801\n"
     ]
    }
   ],
   "source": [
    "print(metrics.r2_score(train_df['y'], model.predict(pd.DataFrame(train_df['ds'])).yhat), \n",
    "      metrics.r2_score(test_df['y'],model.predict(pd.DataFrame(test_df['ds'])).yhat), \n",
    "      metrics.r2_score(df['y'], model.predict(pd.DataFrame(df['ds'])).yhat))"
   ]
  },
  {
   "cell_type": "markdown",
   "metadata": {},
   "source": [
    "As expected, the model does the best on the training set with noticably worse performance on the test set. Prophet is performing worse than the random forest model from the EDA, so we are going to combine it with the random forest model to improve the accuracy when compared against either."
   ]
  },
  {
   "cell_type": "code",
   "execution_count": 78,
   "metadata": {},
   "outputs": [],
   "source": [
    "rfr = RandomForestRegressor()"
   ]
  },
  {
   "cell_type": "code",
   "execution_count": 79,
   "metadata": {},
   "outputs": [
    {
     "data": {
      "text/plain": [
       "(12316,)"
      ]
     },
     "execution_count": 79,
     "metadata": {},
     "output_type": "execute_result"
    }
   ],
   "source": [
    "sdf = pd.DataFrame(df)\n",
    "sdf['sy'] = sdf.y.shift(-24)\n",
    "sdf = sdf.iloc[:-24]\n",
    "spoint = int(0.75*sdf.shape[0])\n",
    "X_train, X_test, y_train, y_test = sdf['y'].iloc[:spoint], sdf['y'].iloc[spoint:], sdf.sy.iloc[:spoint], sdf.sy.iloc[spoint:]\n",
    "y_test.shape"
   ]
  },
  {
   "cell_type": "code",
   "execution_count": 80,
   "metadata": {},
   "outputs": [
    {
     "data": {
      "text/plain": [
       "RandomForestRegressor()"
      ]
     },
     "execution_count": 80,
     "metadata": {},
     "output_type": "execute_result"
    }
   ],
   "source": [
    "rfr.fit(np.array(X_train).reshape(-1,1), y_train)\n"
   ]
  },
  {
   "cell_type": "code",
   "execution_count": 81,
   "metadata": {},
   "outputs": [],
   "source": [
    "#use the scores on the trainging data set to determine weights for adding the models together\n",
    "rf_score = metrics.r2_score(y_train, np.array(rfr.predict(np.array(X_train).reshape(-1,1))))\n",
    "p_score = metrics.r2_score(train_df['y'],model.predict(pd.DataFrame(train_df['ds'])).yhat)"
   ]
  },
  {
   "cell_type": "code",
   "execution_count": 82,
   "metadata": {},
   "outputs": [],
   "source": [
    "score_sum = rf_score+p_score\n",
    "def combine_predict(X):\n",
    "    return (p_score*model.predict(pd.DataFrame(X['ds'])).yhat + rf_score*rfr.predict(np.array(X['sy']).reshape(-1,1)))/score_sum\n"
   ]
  },
  {
   "cell_type": "code",
   "execution_count": 83,
   "metadata": {},
   "outputs": [],
   "source": [
    "prep_df = pd.DataFrame()\n",
    "ds_train, ds_test = sdf.ds.iloc[:int(0.75*sdf.shape[0])], sdf.ds.iloc[int(0.75*sdf.shape[0]):]\n",
    "y_test = sdf.sy.iloc[int(0.75*sdf.shape[0]):]\n",
    "prep_df = pd.concat([pd.DataFrame(ds_test), pd.DataFrame(y_test)], axis=1)"
   ]
  },
  {
   "cell_type": "code",
   "execution_count": 84,
   "metadata": {},
   "outputs": [],
   "source": [
    "pred_df = combine_predict(prep_df)"
   ]
  },
  {
   "cell_type": "code",
   "execution_count": 85,
   "metadata": {},
   "outputs": [],
   "source": [
    "comb_score = metrics.r2_score(y_test, pred_df)"
   ]
  },
  {
   "cell_type": "code",
   "execution_count": 86,
   "metadata": {},
   "outputs": [
    {
     "data": {
      "text/plain": [
       "(0.687577002082496, 0.8539424443706733, 0.9052450075498651)"
      ]
     },
     "execution_count": 86,
     "metadata": {},
     "output_type": "execute_result"
    }
   ],
   "source": [
    "#set r2_scores to those for the test set for comparision\n",
    "rf_score = metrics.r2_score(y_test, np.array(rfr.predict(np.array(X_test).reshape(-1,1))))\n",
    "p_score = metrics.r2_score(test_df['y'],model.predict(pd.DataFrame(test_df['ds'])).yhat)\n",
    "p_score, rf_score, comb_score"
   ]
  },
  {
   "cell_type": "markdown",
   "metadata": {},
   "source": [
    "The combine model has a better score in the test set than both Prophet and the RandomForestRegressor. We will now create a class to find optimal hyper-parameters and save the model with."
   ]
  },
  {
   "cell_type": "code",
   "execution_count": 90,
   "metadata": {},
   "outputs": [],
   "source": [
    "class CombinedModel():\n",
    "    def __init__(self):\n",
    "        self.rfr = RandomForestRegressor()\n",
    "        self.prophet = Prophet()\n",
    "    \n",
    "    def fit(self,X, y):\n",
    "        self.rfr.fit(X.loc[:, X.columns != 'ds'], y)\n",
    "        self.prophet.fit(pd.concat([pd.DataFrame(X['ds']), y], axis=1))\n",
    "    \n",
    "    def set_score(self,X, y):\n",
    "        self.rf_score = metrics.r2_score(self.rfr.predict(X.loc[:, X.columns != 'ds']), y)\n",
    "        self.p_score = metrics.r2_score(self.prophet.predict(pd.DataFrame(X['ds'])), y)\n",
    "    \n",
    "    def predict(self,X):\n",
    "        rf_pred = self.rfr.predict(X.loc[:, X.columns != 'ds'])\n",
    "        p_pred = self.prophet.predict(pd.DataFrame(X['ds']))\n",
    "        return self.rf_score*rf_pred + self.p_score*p_pred\n",
    "    \n",
    "    def optimize(self, X, y):\n",
    "        #optimize RandomForestRegressor\n",
    "        rf_params = {'n_estimators' : list(range(1, 1001)),\n",
    "                    'criterion' : ['mse','mae'],\n",
    "                    'max_features' : ['auto', 'sqrt', \"log2\"]}\n",
    "        rscv = RandomizedSearchCV(rfr, rf_params)\n",
    "        rscv.fit(X,y)\n",
    "        self.rfr = rscv.best_estimator_"
   ]
  },
  {
   "cell_type": "code",
   "execution_count": 91,
   "metadata": {},
   "outputs": [],
   "source": [
    "comodel = CombinedModel()"
   ]
  },
  {
   "cell_type": "code",
   "execution_count": 92,
   "metadata": {},
   "outputs": [],
   "source": [
    "comodel.optimize(pd.DataFrame(X_train), y_train)"
   ]
  },
  {
   "cell_type": "code",
   "execution_count": 93,
   "metadata": {},
   "outputs": [
    {
     "ename": "KeyError",
     "evalue": "'ds'",
     "output_type": "error",
     "traceback": [
      "\u001b[1;31m---------------------------------------------------------------------------\u001b[0m",
      "\u001b[1;31mKeyError\u001b[0m                                  Traceback (most recent call last)",
      "\u001b[1;32m~\\anaconda3\\lib\\site-packages\\pandas\\core\\indexes\\base.py\u001b[0m in \u001b[0;36mget_loc\u001b[1;34m(self, key, method, tolerance)\u001b[0m\n\u001b[0;32m   2894\u001b[0m             \u001b[1;32mtry\u001b[0m\u001b[1;33m:\u001b[0m\u001b[1;33m\u001b[0m\u001b[1;33m\u001b[0m\u001b[0m\n\u001b[1;32m-> 2895\u001b[1;33m                 \u001b[1;32mreturn\u001b[0m \u001b[0mself\u001b[0m\u001b[1;33m.\u001b[0m\u001b[0m_engine\u001b[0m\u001b[1;33m.\u001b[0m\u001b[0mget_loc\u001b[0m\u001b[1;33m(\u001b[0m\u001b[0mcasted_key\u001b[0m\u001b[1;33m)\u001b[0m\u001b[1;33m\u001b[0m\u001b[1;33m\u001b[0m\u001b[0m\n\u001b[0m\u001b[0;32m   2896\u001b[0m             \u001b[1;32mexcept\u001b[0m \u001b[0mKeyError\u001b[0m \u001b[1;32mas\u001b[0m \u001b[0merr\u001b[0m\u001b[1;33m:\u001b[0m\u001b[1;33m\u001b[0m\u001b[1;33m\u001b[0m\u001b[0m\n",
      "\u001b[1;32mpandas\\_libs\\index.pyx\u001b[0m in \u001b[0;36mpandas._libs.index.IndexEngine.get_loc\u001b[1;34m()\u001b[0m\n",
      "\u001b[1;32mpandas\\_libs\\index.pyx\u001b[0m in \u001b[0;36mpandas._libs.index.IndexEngine.get_loc\u001b[1;34m()\u001b[0m\n",
      "\u001b[1;32mpandas\\_libs\\hashtable_class_helper.pxi\u001b[0m in \u001b[0;36mpandas._libs.hashtable.PyObjectHashTable.get_item\u001b[1;34m()\u001b[0m\n",
      "\u001b[1;32mpandas\\_libs\\hashtable_class_helper.pxi\u001b[0m in \u001b[0;36mpandas._libs.hashtable.PyObjectHashTable.get_item\u001b[1;34m()\u001b[0m\n",
      "\u001b[1;31mKeyError\u001b[0m: 'ds'",
      "\nThe above exception was the direct cause of the following exception:\n",
      "\u001b[1;31mKeyError\u001b[0m                                  Traceback (most recent call last)",
      "\u001b[1;32m<ipython-input-93-0072e235c853>\u001b[0m in \u001b[0;36m<module>\u001b[1;34m\u001b[0m\n\u001b[1;32m----> 1\u001b[1;33m \u001b[0mcomodel\u001b[0m\u001b[1;33m.\u001b[0m\u001b[0mfit\u001b[0m\u001b[1;33m(\u001b[0m\u001b[0mpd\u001b[0m\u001b[1;33m.\u001b[0m\u001b[0mDataFrame\u001b[0m\u001b[1;33m(\u001b[0m\u001b[0mX_train\u001b[0m\u001b[1;33m)\u001b[0m\u001b[1;33m,\u001b[0m \u001b[0my_train\u001b[0m\u001b[1;33m)\u001b[0m\u001b[1;33m\u001b[0m\u001b[1;33m\u001b[0m\u001b[0m\n\u001b[0m",
      "\u001b[1;32m<ipython-input-90-1179f651d9ac>\u001b[0m in \u001b[0;36mfit\u001b[1;34m(self, X, y)\u001b[0m\n\u001b[0;32m      6\u001b[0m     \u001b[1;32mdef\u001b[0m \u001b[0mfit\u001b[0m\u001b[1;33m(\u001b[0m\u001b[0mself\u001b[0m\u001b[1;33m,\u001b[0m\u001b[0mX\u001b[0m\u001b[1;33m,\u001b[0m \u001b[0my\u001b[0m\u001b[1;33m)\u001b[0m\u001b[1;33m:\u001b[0m\u001b[1;33m\u001b[0m\u001b[1;33m\u001b[0m\u001b[0m\n\u001b[0;32m      7\u001b[0m         \u001b[0mself\u001b[0m\u001b[1;33m.\u001b[0m\u001b[0mrfr\u001b[0m\u001b[1;33m.\u001b[0m\u001b[0mfit\u001b[0m\u001b[1;33m(\u001b[0m\u001b[0mX\u001b[0m\u001b[1;33m.\u001b[0m\u001b[0mloc\u001b[0m\u001b[1;33m[\u001b[0m\u001b[1;33m:\u001b[0m\u001b[1;33m,\u001b[0m \u001b[0mX\u001b[0m\u001b[1;33m.\u001b[0m\u001b[0mcolumns\u001b[0m \u001b[1;33m!=\u001b[0m \u001b[1;34m'ds'\u001b[0m\u001b[1;33m]\u001b[0m\u001b[1;33m,\u001b[0m \u001b[0my\u001b[0m\u001b[1;33m)\u001b[0m\u001b[1;33m\u001b[0m\u001b[1;33m\u001b[0m\u001b[0m\n\u001b[1;32m----> 8\u001b[1;33m         \u001b[0mself\u001b[0m\u001b[1;33m.\u001b[0m\u001b[0mprophet\u001b[0m\u001b[1;33m.\u001b[0m\u001b[0mfit\u001b[0m\u001b[1;33m(\u001b[0m\u001b[0mpd\u001b[0m\u001b[1;33m.\u001b[0m\u001b[0mconcat\u001b[0m\u001b[1;33m(\u001b[0m\u001b[1;33m[\u001b[0m\u001b[0mpd\u001b[0m\u001b[1;33m.\u001b[0m\u001b[0mDataFrame\u001b[0m\u001b[1;33m(\u001b[0m\u001b[0mX\u001b[0m\u001b[1;33m[\u001b[0m\u001b[1;34m'ds'\u001b[0m\u001b[1;33m]\u001b[0m\u001b[1;33m)\u001b[0m\u001b[1;33m,\u001b[0m \u001b[0my\u001b[0m\u001b[1;33m]\u001b[0m\u001b[1;33m,\u001b[0m \u001b[0maxis\u001b[0m\u001b[1;33m=\u001b[0m\u001b[1;36m1\u001b[0m\u001b[1;33m)\u001b[0m\u001b[1;33m)\u001b[0m\u001b[1;33m\u001b[0m\u001b[1;33m\u001b[0m\u001b[0m\n\u001b[0m\u001b[0;32m      9\u001b[0m \u001b[1;33m\u001b[0m\u001b[0m\n\u001b[0;32m     10\u001b[0m     \u001b[1;32mdef\u001b[0m \u001b[0mset_score\u001b[0m\u001b[1;33m(\u001b[0m\u001b[0mself\u001b[0m\u001b[1;33m,\u001b[0m\u001b[0mX\u001b[0m\u001b[1;33m,\u001b[0m \u001b[0my\u001b[0m\u001b[1;33m)\u001b[0m\u001b[1;33m:\u001b[0m\u001b[1;33m\u001b[0m\u001b[1;33m\u001b[0m\u001b[0m\n",
      "\u001b[1;32m~\\anaconda3\\lib\\site-packages\\pandas\\core\\frame.py\u001b[0m in \u001b[0;36m__getitem__\u001b[1;34m(self, key)\u001b[0m\n\u001b[0;32m   2900\u001b[0m             \u001b[1;32mif\u001b[0m \u001b[0mself\u001b[0m\u001b[1;33m.\u001b[0m\u001b[0mcolumns\u001b[0m\u001b[1;33m.\u001b[0m\u001b[0mnlevels\u001b[0m \u001b[1;33m>\u001b[0m \u001b[1;36m1\u001b[0m\u001b[1;33m:\u001b[0m\u001b[1;33m\u001b[0m\u001b[1;33m\u001b[0m\u001b[0m\n\u001b[0;32m   2901\u001b[0m                 \u001b[1;32mreturn\u001b[0m \u001b[0mself\u001b[0m\u001b[1;33m.\u001b[0m\u001b[0m_getitem_multilevel\u001b[0m\u001b[1;33m(\u001b[0m\u001b[0mkey\u001b[0m\u001b[1;33m)\u001b[0m\u001b[1;33m\u001b[0m\u001b[1;33m\u001b[0m\u001b[0m\n\u001b[1;32m-> 2902\u001b[1;33m             \u001b[0mindexer\u001b[0m \u001b[1;33m=\u001b[0m \u001b[0mself\u001b[0m\u001b[1;33m.\u001b[0m\u001b[0mcolumns\u001b[0m\u001b[1;33m.\u001b[0m\u001b[0mget_loc\u001b[0m\u001b[1;33m(\u001b[0m\u001b[0mkey\u001b[0m\u001b[1;33m)\u001b[0m\u001b[1;33m\u001b[0m\u001b[1;33m\u001b[0m\u001b[0m\n\u001b[0m\u001b[0;32m   2903\u001b[0m             \u001b[1;32mif\u001b[0m \u001b[0mis_integer\u001b[0m\u001b[1;33m(\u001b[0m\u001b[0mindexer\u001b[0m\u001b[1;33m)\u001b[0m\u001b[1;33m:\u001b[0m\u001b[1;33m\u001b[0m\u001b[1;33m\u001b[0m\u001b[0m\n\u001b[0;32m   2904\u001b[0m                 \u001b[0mindexer\u001b[0m \u001b[1;33m=\u001b[0m \u001b[1;33m[\u001b[0m\u001b[0mindexer\u001b[0m\u001b[1;33m]\u001b[0m\u001b[1;33m\u001b[0m\u001b[1;33m\u001b[0m\u001b[0m\n",
      "\u001b[1;32m~\\anaconda3\\lib\\site-packages\\pandas\\core\\indexes\\base.py\u001b[0m in \u001b[0;36mget_loc\u001b[1;34m(self, key, method, tolerance)\u001b[0m\n\u001b[0;32m   2895\u001b[0m                 \u001b[1;32mreturn\u001b[0m \u001b[0mself\u001b[0m\u001b[1;33m.\u001b[0m\u001b[0m_engine\u001b[0m\u001b[1;33m.\u001b[0m\u001b[0mget_loc\u001b[0m\u001b[1;33m(\u001b[0m\u001b[0mcasted_key\u001b[0m\u001b[1;33m)\u001b[0m\u001b[1;33m\u001b[0m\u001b[1;33m\u001b[0m\u001b[0m\n\u001b[0;32m   2896\u001b[0m             \u001b[1;32mexcept\u001b[0m \u001b[0mKeyError\u001b[0m \u001b[1;32mas\u001b[0m \u001b[0merr\u001b[0m\u001b[1;33m:\u001b[0m\u001b[1;33m\u001b[0m\u001b[1;33m\u001b[0m\u001b[0m\n\u001b[1;32m-> 2897\u001b[1;33m                 \u001b[1;32mraise\u001b[0m \u001b[0mKeyError\u001b[0m\u001b[1;33m(\u001b[0m\u001b[0mkey\u001b[0m\u001b[1;33m)\u001b[0m \u001b[1;32mfrom\u001b[0m \u001b[0merr\u001b[0m\u001b[1;33m\u001b[0m\u001b[1;33m\u001b[0m\u001b[0m\n\u001b[0m\u001b[0;32m   2898\u001b[0m \u001b[1;33m\u001b[0m\u001b[0m\n\u001b[0;32m   2899\u001b[0m         \u001b[1;32mif\u001b[0m \u001b[0mtolerance\u001b[0m \u001b[1;32mis\u001b[0m \u001b[1;32mnot\u001b[0m \u001b[1;32mNone\u001b[0m\u001b[1;33m:\u001b[0m\u001b[1;33m\u001b[0m\u001b[1;33m\u001b[0m\u001b[0m\n",
      "\u001b[1;31mKeyError\u001b[0m: 'ds'"
     ]
    }
   ],
   "source": [
    "comodel.fit(pd.DataFrame(X_train), y_train)"
   ]
  },
  {
   "cell_type": "code",
   "execution_count": null,
   "metadata": {},
   "outputs": [],
   "source": [
    "y_train.head()"
   ]
  },
  {
   "cell_type": "code",
   "execution_count": null,
   "metadata": {},
   "outputs": [],
   "source": []
  }
 ],
 "metadata": {
  "kernelspec": {
   "display_name": "Python 3",
   "language": "python",
   "name": "python3"
  },
  "language_info": {
   "codemirror_mode": {
    "name": "ipython",
    "version": 3
   },
   "file_extension": ".py",
   "mimetype": "text/x-python",
   "name": "python",
   "nbconvert_exporter": "python",
   "pygments_lexer": "ipython3",
   "version": "3.8.5"
  }
 },
 "nbformat": 4,
 "nbformat_minor": 4
}
