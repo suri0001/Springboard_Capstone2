{
 "cells": [
  {
   "cell_type": "code",
   "execution_count": 2,
   "metadata": {},
   "outputs": [],
   "source": [
    "import numpy as np\n",
    "import pandas as pd\n",
    "import matplotlib.pyplot as plt\n",
    "import sklearn\n",
    "from sklearn.model_selection import TimeSeriesSplit\n",
    "from sklearn import linear_model\n",
    "from sklearn.metrics import mean_squared_error, mean_absolute_error\n",
    "import datetime\n",
    "from sklearn.tree import DecisionTreeRegressor\n",
    "from sklearn.model_selection import GridSearchCV\n",
    "import warnings\n",
    "warnings.filterwarnings('ignore')"
   ]
  },
  {
   "cell_type": "markdown",
   "metadata": {},
   "source": [
    "First we need to load the data from the Data Wrangling step."
   ]
  },
  {
   "cell_type": "code",
   "execution_count": 3,
   "metadata": {},
   "outputs": [
    {
     "data": {
      "text/html": [
       "<div>\n",
       "<style scoped>\n",
       "    .dataframe tbody tr th:only-of-type {\n",
       "        vertical-align: middle;\n",
       "    }\n",
       "\n",
       "    .dataframe tbody tr th {\n",
       "        vertical-align: top;\n",
       "    }\n",
       "\n",
       "    .dataframe thead th {\n",
       "        text-align: right;\n",
       "    }\n",
       "</style>\n",
       "<table border=\"1\" class=\"dataframe\">\n",
       "  <thead>\n",
       "    <tr style=\"text-align: right;\">\n",
       "      <th></th>\n",
       "      <th>date</th>\n",
       "      <th>US48</th>\n",
       "      <th>CAL</th>\n",
       "      <th>CAR</th>\n",
       "      <th>CENT</th>\n",
       "      <th>FLA</th>\n",
       "      <th>MIDA</th>\n",
       "      <th>MIDW</th>\n",
       "      <th>NE</th>\n",
       "      <th>NY</th>\n",
       "      <th>...</th>\n",
       "      <th>SWPP</th>\n",
       "      <th>SPA</th>\n",
       "      <th>TEC</th>\n",
       "      <th>TVA</th>\n",
       "      <th>TEPC</th>\n",
       "      <th>TIDC</th>\n",
       "      <th>NSB</th>\n",
       "      <th>WALC</th>\n",
       "      <th>WACM</th>\n",
       "      <th>WAUW</th>\n",
       "    </tr>\n",
       "  </thead>\n",
       "  <tbody>\n",
       "    <tr>\n",
       "      <th>0</th>\n",
       "      <td>2015-07-01 05:00:00+00:00</td>\n",
       "      <td>162827.0</td>\n",
       "      <td>0.0</td>\n",
       "      <td>22945.0</td>\n",
       "      <td>0.0</td>\n",
       "      <td>26384.0</td>\n",
       "      <td>84024.0</td>\n",
       "      <td>0.0</td>\n",
       "      <td>12583.0</td>\n",
       "      <td>16891.0</td>\n",
       "      <td>...</td>\n",
       "      <td>0.0</td>\n",
       "      <td>0.0</td>\n",
       "      <td>2541.0</td>\n",
       "      <td>0.0</td>\n",
       "      <td>0.0</td>\n",
       "      <td>0.0</td>\n",
       "      <td>47.0</td>\n",
       "      <td>0.0</td>\n",
       "      <td>0.0</td>\n",
       "      <td>0.0</td>\n",
       "    </tr>\n",
       "    <tr>\n",
       "      <th>1</th>\n",
       "      <td>2015-07-01 06:00:00+00:00</td>\n",
       "      <td>335153.0</td>\n",
       "      <td>0.0</td>\n",
       "      <td>21396.0</td>\n",
       "      <td>28985.0</td>\n",
       "      <td>24336.0</td>\n",
       "      <td>79791.0</td>\n",
       "      <td>73432.0</td>\n",
       "      <td>12349.0</td>\n",
       "      <td>16027.0</td>\n",
       "      <td>...</td>\n",
       "      <td>28891.0</td>\n",
       "      <td>94.0</td>\n",
       "      <td>2367.0</td>\n",
       "      <td>16136.0</td>\n",
       "      <td>0.0</td>\n",
       "      <td>0.0</td>\n",
       "      <td>46.0</td>\n",
       "      <td>0.0</td>\n",
       "      <td>0.0</td>\n",
       "      <td>0.0</td>\n",
       "    </tr>\n",
       "    <tr>\n",
       "      <th>2</th>\n",
       "      <td>2015-07-01 07:00:00+00:00</td>\n",
       "      <td>333837.0</td>\n",
       "      <td>0.0</td>\n",
       "      <td>20627.0</td>\n",
       "      <td>27498.0</td>\n",
       "      <td>22842.0</td>\n",
       "      <td>76760.0</td>\n",
       "      <td>70211.0</td>\n",
       "      <td>12445.0</td>\n",
       "      <td>15541.0</td>\n",
       "      <td>...</td>\n",
       "      <td>27413.0</td>\n",
       "      <td>85.0</td>\n",
       "      <td>2246.0</td>\n",
       "      <td>15503.0</td>\n",
       "      <td>0.0</td>\n",
       "      <td>0.0</td>\n",
       "      <td>43.0</td>\n",
       "      <td>0.0</td>\n",
       "      <td>0.0</td>\n",
       "      <td>0.0</td>\n",
       "    </tr>\n",
       "    <tr>\n",
       "      <th>3</th>\n",
       "      <td>2015-07-01 08:00:00+00:00</td>\n",
       "      <td>398386.0</td>\n",
       "      <td>38210.0</td>\n",
       "      <td>20102.0</td>\n",
       "      <td>26384.0</td>\n",
       "      <td>21906.0</td>\n",
       "      <td>74931.0</td>\n",
       "      <td>68163.0</td>\n",
       "      <td>12385.0</td>\n",
       "      <td>15283.0</td>\n",
       "      <td>...</td>\n",
       "      <td>26291.0</td>\n",
       "      <td>93.0</td>\n",
       "      <td>2179.0</td>\n",
       "      <td>14896.0</td>\n",
       "      <td>1605.0</td>\n",
       "      <td>408.0</td>\n",
       "      <td>40.0</td>\n",
       "      <td>1119.0</td>\n",
       "      <td>0.0</td>\n",
       "      <td>0.0</td>\n",
       "    </tr>\n",
       "    <tr>\n",
       "      <th>4</th>\n",
       "      <td>2015-07-01 09:00:00+00:00</td>\n",
       "      <td>388954.0</td>\n",
       "      <td>35171.0</td>\n",
       "      <td>19931.0</td>\n",
       "      <td>25663.0</td>\n",
       "      <td>21615.0</td>\n",
       "      <td>74368.0</td>\n",
       "      <td>67309.0</td>\n",
       "      <td>12387.0</td>\n",
       "      <td>15304.0</td>\n",
       "      <td>...</td>\n",
       "      <td>25582.0</td>\n",
       "      <td>81.0</td>\n",
       "      <td>2157.0</td>\n",
       "      <td>14663.0</td>\n",
       "      <td>1537.0</td>\n",
       "      <td>380.0</td>\n",
       "      <td>38.0</td>\n",
       "      <td>1018.0</td>\n",
       "      <td>0.0</td>\n",
       "      <td>0.0</td>\n",
       "    </tr>\n",
       "  </tbody>\n",
       "</table>\n",
       "<p>5 rows × 71 columns</p>\n",
       "</div>"
      ],
      "text/plain": [
       "                        date      US48      CAL      CAR     CENT      FLA  \\\n",
       "0  2015-07-01 05:00:00+00:00  162827.0      0.0  22945.0      0.0  26384.0   \n",
       "1  2015-07-01 06:00:00+00:00  335153.0      0.0  21396.0  28985.0  24336.0   \n",
       "2  2015-07-01 07:00:00+00:00  333837.0      0.0  20627.0  27498.0  22842.0   \n",
       "3  2015-07-01 08:00:00+00:00  398386.0  38210.0  20102.0  26384.0  21906.0   \n",
       "4  2015-07-01 09:00:00+00:00  388954.0  35171.0  19931.0  25663.0  21615.0   \n",
       "\n",
       "      MIDA     MIDW       NE       NY  ...     SWPP   SPA     TEC      TVA  \\\n",
       "0  84024.0      0.0  12583.0  16891.0  ...      0.0   0.0  2541.0      0.0   \n",
       "1  79791.0  73432.0  12349.0  16027.0  ...  28891.0  94.0  2367.0  16136.0   \n",
       "2  76760.0  70211.0  12445.0  15541.0  ...  27413.0  85.0  2246.0  15503.0   \n",
       "3  74931.0  68163.0  12385.0  15283.0  ...  26291.0  93.0  2179.0  14896.0   \n",
       "4  74368.0  67309.0  12387.0  15304.0  ...  25582.0  81.0  2157.0  14663.0   \n",
       "\n",
       "     TEPC   TIDC   NSB    WALC  WACM  WAUW  \n",
       "0     0.0    0.0  47.0     0.0   0.0   0.0  \n",
       "1     0.0    0.0  46.0     0.0   0.0   0.0  \n",
       "2     0.0    0.0  43.0     0.0   0.0   0.0  \n",
       "3  1605.0  408.0  40.0  1119.0   0.0   0.0  \n",
       "4  1537.0  380.0  38.0  1018.0   0.0   0.0  \n",
       "\n",
       "[5 rows x 71 columns]"
      ]
     },
     "execution_count": 3,
     "metadata": {},
     "output_type": "execute_result"
    }
   ],
   "source": [
    "demand = pd.read_csv(\"data/demand.csv\", index_col=0)\n",
    "forecast = pd.read_csv(\"data/forecast.csv\", index_col=0)\n",
    "netgen = pd.read_csv(\"data/netgen.csv\", index_col=0)\n",
    "demand.head()"
   ]
  },
  {
   "cell_type": "code",
   "execution_count": 4,
   "metadata": {},
   "outputs": [
    {
     "data": {
      "text/html": [
       "<div>\n",
       "<style scoped>\n",
       "    .dataframe tbody tr th:only-of-type {\n",
       "        vertical-align: middle;\n",
       "    }\n",
       "\n",
       "    .dataframe tbody tr th {\n",
       "        vertical-align: top;\n",
       "    }\n",
       "\n",
       "    .dataframe thead th {\n",
       "        text-align: right;\n",
       "    }\n",
       "</style>\n",
       "<table border=\"1\" class=\"dataframe\">\n",
       "  <thead>\n",
       "    <tr style=\"text-align: right;\">\n",
       "      <th></th>\n",
       "      <th>date</th>\n",
       "      <th>US48</th>\n",
       "      <th>CAL</th>\n",
       "      <th>CAR</th>\n",
       "      <th>CENT</th>\n",
       "      <th>FLA</th>\n",
       "      <th>MIDA</th>\n",
       "      <th>MIDW</th>\n",
       "      <th>NE</th>\n",
       "      <th>NY</th>\n",
       "      <th>...</th>\n",
       "      <th>SWPP</th>\n",
       "      <th>SPA</th>\n",
       "      <th>TEC</th>\n",
       "      <th>TVA</th>\n",
       "      <th>TEPC</th>\n",
       "      <th>TIDC</th>\n",
       "      <th>NSB</th>\n",
       "      <th>WALC</th>\n",
       "      <th>WACM</th>\n",
       "      <th>WAUW</th>\n",
       "    </tr>\n",
       "  </thead>\n",
       "  <tbody>\n",
       "    <tr>\n",
       "      <th>0</th>\n",
       "      <td>2015-07-01 05:00:00+00:00</td>\n",
       "      <td>106573.0</td>\n",
       "      <td>0.0</td>\n",
       "      <td>24453.0</td>\n",
       "      <td>0.0</td>\n",
       "      <td>24781.0</td>\n",
       "      <td>29484.0</td>\n",
       "      <td>0.0</td>\n",
       "      <td>11810.0</td>\n",
       "      <td>16045.0</td>\n",
       "      <td>...</td>\n",
       "      <td>0.0</td>\n",
       "      <td>0.0</td>\n",
       "      <td>2250.0</td>\n",
       "      <td>0.0</td>\n",
       "      <td>0.0</td>\n",
       "      <td>0.0</td>\n",
       "      <td>43.0</td>\n",
       "      <td>0.0</td>\n",
       "      <td>0.0</td>\n",
       "      <td>0.0</td>\n",
       "    </tr>\n",
       "    <tr>\n",
       "      <th>1</th>\n",
       "      <td>2015-07-01 06:00:00+00:00</td>\n",
       "      <td>269675.0</td>\n",
       "      <td>0.0</td>\n",
       "      <td>22731.0</td>\n",
       "      <td>28749.0</td>\n",
       "      <td>21203.0</td>\n",
       "      <td>27756.0</td>\n",
       "      <td>76958.0</td>\n",
       "      <td>11190.0</td>\n",
       "      <td>0.0</td>\n",
       "      <td>...</td>\n",
       "      <td>28673.0</td>\n",
       "      <td>76.0</td>\n",
       "      <td>2110.0</td>\n",
       "      <td>16349.0</td>\n",
       "      <td>0.0</td>\n",
       "      <td>0.0</td>\n",
       "      <td>39.0</td>\n",
       "      <td>0.0</td>\n",
       "      <td>0.0</td>\n",
       "      <td>0.0</td>\n",
       "    </tr>\n",
       "    <tr>\n",
       "      <th>2</th>\n",
       "      <td>2015-07-01 07:00:00+00:00</td>\n",
       "      <td>269773.0</td>\n",
       "      <td>0.0</td>\n",
       "      <td>21569.0</td>\n",
       "      <td>27243.0</td>\n",
       "      <td>20009.0</td>\n",
       "      <td>26643.0</td>\n",
       "      <td>74126.0</td>\n",
       "      <td>10860.0</td>\n",
       "      <td>0.0</td>\n",
       "      <td>...</td>\n",
       "      <td>27170.0</td>\n",
       "      <td>73.0</td>\n",
       "      <td>2010.0</td>\n",
       "      <td>15621.0</td>\n",
       "      <td>0.0</td>\n",
       "      <td>0.0</td>\n",
       "      <td>37.0</td>\n",
       "      <td>0.0</td>\n",
       "      <td>0.0</td>\n",
       "      <td>0.0</td>\n",
       "    </tr>\n",
       "    <tr>\n",
       "      <th>3</th>\n",
       "      <td>2015-07-01 08:00:00+00:00</td>\n",
       "      <td>331736.0</td>\n",
       "      <td>35264.0</td>\n",
       "      <td>20898.0</td>\n",
       "      <td>26120.0</td>\n",
       "      <td>19278.0</td>\n",
       "      <td>26098.0</td>\n",
       "      <td>72102.0</td>\n",
       "      <td>10760.0</td>\n",
       "      <td>0.0</td>\n",
       "      <td>...</td>\n",
       "      <td>26041.0</td>\n",
       "      <td>79.0</td>\n",
       "      <td>1950.0</td>\n",
       "      <td>15063.0</td>\n",
       "      <td>1471.0</td>\n",
       "      <td>410.0</td>\n",
       "      <td>37.0</td>\n",
       "      <td>1091.0</td>\n",
       "      <td>0.0</td>\n",
       "      <td>0.0</td>\n",
       "    </tr>\n",
       "    <tr>\n",
       "      <th>4</th>\n",
       "      <td>2015-07-01 09:00:00+00:00</td>\n",
       "      <td>324545.0</td>\n",
       "      <td>32894.0</td>\n",
       "      <td>20621.0</td>\n",
       "      <td>25451.0</td>\n",
       "      <td>19180.0</td>\n",
       "      <td>26289.0</td>\n",
       "      <td>71300.0</td>\n",
       "      <td>11200.0</td>\n",
       "      <td>0.0</td>\n",
       "      <td>...</td>\n",
       "      <td>25380.0</td>\n",
       "      <td>71.0</td>\n",
       "      <td>1970.0</td>\n",
       "      <td>14781.0</td>\n",
       "      <td>1418.0</td>\n",
       "      <td>380.0</td>\n",
       "      <td>38.0</td>\n",
       "      <td>1055.0</td>\n",
       "      <td>0.0</td>\n",
       "      <td>0.0</td>\n",
       "    </tr>\n",
       "  </tbody>\n",
       "</table>\n",
       "<p>5 rows × 71 columns</p>\n",
       "</div>"
      ],
      "text/plain": [
       "                        date      US48      CAL      CAR     CENT      FLA  \\\n",
       "0  2015-07-01 05:00:00+00:00  106573.0      0.0  24453.0      0.0  24781.0   \n",
       "1  2015-07-01 06:00:00+00:00  269675.0      0.0  22731.0  28749.0  21203.0   \n",
       "2  2015-07-01 07:00:00+00:00  269773.0      0.0  21569.0  27243.0  20009.0   \n",
       "3  2015-07-01 08:00:00+00:00  331736.0  35264.0  20898.0  26120.0  19278.0   \n",
       "4  2015-07-01 09:00:00+00:00  324545.0  32894.0  20621.0  25451.0  19180.0   \n",
       "\n",
       "      MIDA     MIDW       NE       NY  ...     SWPP   SPA     TEC      TVA  \\\n",
       "0  29484.0      0.0  11810.0  16045.0  ...      0.0   0.0  2250.0      0.0   \n",
       "1  27756.0  76958.0  11190.0      0.0  ...  28673.0  76.0  2110.0  16349.0   \n",
       "2  26643.0  74126.0  10860.0      0.0  ...  27170.0  73.0  2010.0  15621.0   \n",
       "3  26098.0  72102.0  10760.0      0.0  ...  26041.0  79.0  1950.0  15063.0   \n",
       "4  26289.0  71300.0  11200.0      0.0  ...  25380.0  71.0  1970.0  14781.0   \n",
       "\n",
       "     TEPC   TIDC   NSB    WALC  WACM  WAUW  \n",
       "0     0.0    0.0  43.0     0.0   0.0   0.0  \n",
       "1     0.0    0.0  39.0     0.0   0.0   0.0  \n",
       "2     0.0    0.0  37.0     0.0   0.0   0.0  \n",
       "3  1471.0  410.0  37.0  1091.0   0.0   0.0  \n",
       "4  1418.0  380.0  38.0  1055.0   0.0   0.0  \n",
       "\n",
       "[5 rows x 71 columns]"
      ]
     },
     "execution_count": 4,
     "metadata": {},
     "output_type": "execute_result"
    }
   ],
   "source": [
    "forecast.head()"
   ]
  },
  {
   "cell_type": "code",
   "execution_count": 5,
   "metadata": {},
   "outputs": [
    {
     "data": {
      "text/plain": [
       "date    2015-07-02 05:00:00+00:00\n",
       "US48                       453284\n",
       "CAL                         44996\n",
       "CAR                         23646\n",
       "CENT                        31489\n",
       "                  ...            \n",
       "TIDC                          484\n",
       "NSB                            47\n",
       "WALC                         1102\n",
       "WACM                            0\n",
       "WAUW                            0\n",
       "Name: 24, Length: 71, dtype: object"
      ]
     },
     "execution_count": 5,
     "metadata": {},
     "output_type": "execute_result"
    }
   ],
   "source": [
    "demand.iloc[24]"
   ]
  },
  {
   "cell_type": "code",
   "execution_count": 6,
   "metadata": {},
   "outputs": [
    {
     "data": {
      "text/html": [
       "<div>\n",
       "<style scoped>\n",
       "    .dataframe tbody tr th:only-of-type {\n",
       "        vertical-align: middle;\n",
       "    }\n",
       "\n",
       "    .dataframe tbody tr th {\n",
       "        vertical-align: top;\n",
       "    }\n",
       "\n",
       "    .dataframe thead th {\n",
       "        text-align: right;\n",
       "    }\n",
       "</style>\n",
       "<table border=\"1\" class=\"dataframe\">\n",
       "  <thead>\n",
       "    <tr style=\"text-align: right;\">\n",
       "      <th></th>\n",
       "      <th>date</th>\n",
       "      <th>US48</th>\n",
       "      <th>CAL</th>\n",
       "      <th>CAR</th>\n",
       "      <th>CENT</th>\n",
       "      <th>FLA</th>\n",
       "      <th>MIDA</th>\n",
       "      <th>MIDW</th>\n",
       "      <th>NE</th>\n",
       "      <th>NY</th>\n",
       "      <th>...</th>\n",
       "      <th>SWPP</th>\n",
       "      <th>SPA</th>\n",
       "      <th>TEC</th>\n",
       "      <th>TVA</th>\n",
       "      <th>TEPC</th>\n",
       "      <th>TIDC</th>\n",
       "      <th>NSB</th>\n",
       "      <th>WALC</th>\n",
       "      <th>WACM</th>\n",
       "      <th>WAUW</th>\n",
       "    </tr>\n",
       "  </thead>\n",
       "  <tbody>\n",
       "    <tr>\n",
       "      <th>0</th>\n",
       "      <td>2015-07-01 05:00:00+00:00</td>\n",
       "      <td>157438.0</td>\n",
       "      <td>0.0</td>\n",
       "      <td>22934.0</td>\n",
       "      <td>0.0</td>\n",
       "      <td>24794.0</td>\n",
       "      <td>83944.0</td>\n",
       "      <td>0.0</td>\n",
       "      <td>11322.0</td>\n",
       "      <td>14444.0</td>\n",
       "      <td>...</td>\n",
       "      <td>0.0</td>\n",
       "      <td>0.0</td>\n",
       "      <td>2794.0</td>\n",
       "      <td>0.0</td>\n",
       "      <td>0.0</td>\n",
       "      <td>0.0</td>\n",
       "      <td>0.0</td>\n",
       "      <td>0.0</td>\n",
       "      <td>0.0</td>\n",
       "      <td>0.0</td>\n",
       "    </tr>\n",
       "    <tr>\n",
       "      <th>1</th>\n",
       "      <td>2015-07-01 06:00:00+00:00</td>\n",
       "      <td>328863.0</td>\n",
       "      <td>0.0</td>\n",
       "      <td>21397.0</td>\n",
       "      <td>29484.0</td>\n",
       "      <td>23033.0</td>\n",
       "      <td>80091.0</td>\n",
       "      <td>70103.0</td>\n",
       "      <td>11376.0</td>\n",
       "      <td>13809.0</td>\n",
       "      <td>...</td>\n",
       "      <td>28286.0</td>\n",
       "      <td>1198.0</td>\n",
       "      <td>2578.0</td>\n",
       "      <td>16196.0</td>\n",
       "      <td>0.0</td>\n",
       "      <td>0.0</td>\n",
       "      <td>0.0</td>\n",
       "      <td>0.0</td>\n",
       "      <td>0.0</td>\n",
       "      <td>0.0</td>\n",
       "    </tr>\n",
       "    <tr>\n",
       "      <th>2</th>\n",
       "      <td>2015-07-01 07:00:00+00:00</td>\n",
       "      <td>326919.0</td>\n",
       "      <td>0.0</td>\n",
       "      <td>20598.0</td>\n",
       "      <td>28106.0</td>\n",
       "      <td>21663.0</td>\n",
       "      <td>77994.0</td>\n",
       "      <td>64905.0</td>\n",
       "      <td>11305.0</td>\n",
       "      <td>13435.0</td>\n",
       "      <td>...</td>\n",
       "      <td>26897.0</td>\n",
       "      <td>1209.0</td>\n",
       "      <td>2485.0</td>\n",
       "      <td>15496.0</td>\n",
       "      <td>0.0</td>\n",
       "      <td>0.0</td>\n",
       "      <td>0.0</td>\n",
       "      <td>0.0</td>\n",
       "      <td>0.0</td>\n",
       "      <td>0.0</td>\n",
       "    </tr>\n",
       "    <tr>\n",
       "      <th>3</th>\n",
       "      <td>2015-07-01 08:00:00+00:00</td>\n",
       "      <td>380036.0</td>\n",
       "      <td>31005.0</td>\n",
       "      <td>20068.0</td>\n",
       "      <td>26841.0</td>\n",
       "      <td>20779.0</td>\n",
       "      <td>76820.0</td>\n",
       "      <td>62094.0</td>\n",
       "      <td>11303.0</td>\n",
       "      <td>13144.0</td>\n",
       "      <td>...</td>\n",
       "      <td>25632.0</td>\n",
       "      <td>1209.0</td>\n",
       "      <td>2417.0</td>\n",
       "      <td>15028.0</td>\n",
       "      <td>1599.0</td>\n",
       "      <td>234.0</td>\n",
       "      <td>0.0</td>\n",
       "      <td>1094.0</td>\n",
       "      <td>0.0</td>\n",
       "      <td>0.0</td>\n",
       "    </tr>\n",
       "    <tr>\n",
       "      <th>4</th>\n",
       "      <td>2015-07-01 09:00:00+00:00</td>\n",
       "      <td>371162.0</td>\n",
       "      <td>28760.0</td>\n",
       "      <td>19965.0</td>\n",
       "      <td>26174.0</td>\n",
       "      <td>20506.0</td>\n",
       "      <td>76268.0</td>\n",
       "      <td>60872.0</td>\n",
       "      <td>11460.0</td>\n",
       "      <td>13147.0</td>\n",
       "      <td>...</td>\n",
       "      <td>24964.0</td>\n",
       "      <td>1210.0</td>\n",
       "      <td>2385.0</td>\n",
       "      <td>14794.0</td>\n",
       "      <td>1471.0</td>\n",
       "      <td>223.0</td>\n",
       "      <td>0.0</td>\n",
       "      <td>890.0</td>\n",
       "      <td>0.0</td>\n",
       "      <td>0.0</td>\n",
       "    </tr>\n",
       "  </tbody>\n",
       "</table>\n",
       "<p>5 rows × 83 columns</p>\n",
       "</div>"
      ],
      "text/plain": [
       "                        date      US48      CAL      CAR     CENT      FLA  \\\n",
       "0  2015-07-01 05:00:00+00:00  157438.0      0.0  22934.0      0.0  24794.0   \n",
       "1  2015-07-01 06:00:00+00:00  328863.0      0.0  21397.0  29484.0  23033.0   \n",
       "2  2015-07-01 07:00:00+00:00  326919.0      0.0  20598.0  28106.0  21663.0   \n",
       "3  2015-07-01 08:00:00+00:00  380036.0  31005.0  20068.0  26841.0  20779.0   \n",
       "4  2015-07-01 09:00:00+00:00  371162.0  28760.0  19965.0  26174.0  20506.0   \n",
       "\n",
       "      MIDA     MIDW       NE       NY  ...     SWPP     SPA     TEC      TVA  \\\n",
       "0  83944.0      0.0  11322.0  14444.0  ...      0.0     0.0  2794.0      0.0   \n",
       "1  80091.0  70103.0  11376.0  13809.0  ...  28286.0  1198.0  2578.0  16196.0   \n",
       "2  77994.0  64905.0  11305.0  13435.0  ...  26897.0  1209.0  2485.0  15496.0   \n",
       "3  76820.0  62094.0  11303.0  13144.0  ...  25632.0  1209.0  2417.0  15028.0   \n",
       "4  76268.0  60872.0  11460.0  13147.0  ...  24964.0  1210.0  2385.0  14794.0   \n",
       "\n",
       "     TEPC   TIDC  NSB    WALC  WACM  WAUW  \n",
       "0     0.0    0.0  0.0     0.0   0.0   0.0  \n",
       "1     0.0    0.0  0.0     0.0   0.0   0.0  \n",
       "2     0.0    0.0  0.0     0.0   0.0   0.0  \n",
       "3  1599.0  234.0  0.0  1094.0   0.0   0.0  \n",
       "4  1471.0  223.0  0.0   890.0   0.0   0.0  \n",
       "\n",
       "[5 rows x 83 columns]"
      ]
     },
     "execution_count": 6,
     "metadata": {},
     "output_type": "execute_result"
    }
   ],
   "source": [
    "netgen.head()"
   ]
  },
  {
   "cell_type": "markdown",
   "metadata": {},
   "source": [
    "Next we look at the clean and examine the forecast data creating some plots."
   ]
  },
  {
   "cell_type": "code",
   "execution_count": 7,
   "metadata": {},
   "outputs": [
    {
     "data": {
      "text/plain": [
       "count       71.000000\n",
       "mean      1402.577465\n",
       "std       3950.543665\n",
       "min          0.000000\n",
       "25%         46.000000\n",
       "50%        192.000000\n",
       "75%        658.000000\n",
       "max      26011.000000\n",
       "dtype: float64"
      ]
     },
     "execution_count": 7,
     "metadata": {},
     "output_type": "execute_result"
    }
   ],
   "source": [
    "forecast = forecast.replace(to_replace = 0.0, value=np.NaN) \n",
    "forecast.isna().sum().describe()"
   ]
  },
  {
   "cell_type": "markdown",
   "metadata": {},
   "source": [
    "We can evaluate the accuracy of the given forecast model. Since it is a forecast, it has more entries than the demand data frame, so we must correct for that. We can do this by dropping the last rows from the forecast data frame since the data is otherwise already aligned with the demand data frame."
   ]
  },
  {
   "cell_type": "code",
   "execution_count": 8,
   "metadata": {},
   "outputs": [
    {
     "data": {
      "text/plain": [
       "0.9509745723874736"
      ]
     },
     "execution_count": 8,
     "metadata": {},
     "output_type": "execute_result"
    }
   ],
   "source": [
    "diff = forecast.shape[0] - demand.shape[0] #there is more forecast data than actual demand data\n",
    "sklearn.metrics.r2_score(demand['US48'], forecast['US48'].iloc[:-diff])"
   ]
  },
  {
   "cell_type": "code",
   "execution_count": 9,
   "metadata": {},
   "outputs": [
    {
     "data": {
      "text/plain": [
       "<AxesSubplot:>"
      ]
     },
     "execution_count": 9,
     "metadata": {},
     "output_type": "execute_result"
    },
    {
     "data": {
      "image/png": "[encoded data removed]",
      "text/plain": [
       "<Figure size 432x288 with 1 Axes>"
      ]
     },
     "metadata": {
      "needs_background": "light"
     },
     "output_type": "display_data"
    }
   ],
   "source": [
    "#Plot the difference\n",
    "(demand['US48']-forecast['US48']).apply(abs).plot()"
   ]
  },
  {
   "cell_type": "markdown",
   "metadata": {},
   "source": [
    "As we can see from the plot the error in the forecast is usually pretty low, but spikes up to 100,000 or more somewhat frequently. This is good as it means there is room for improvement if we can deal with these outliers."
   ]
  },
  {
   "cell_type": "code",
   "execution_count": 10,
   "metadata": {},
   "outputs": [],
   "source": [
    "#This function extracts date information and puts it in both raw and periodic formats\n",
    "def extract_dates(X):\n",
    "    dates = {1:31, 2:28, 3:31, 4:30, 5:31, 6:30, 7:31, 8:31, 9:30, 10:31, 11:30, 12:31}\n",
    "    X['date'] = pd.to_datetime(X.date)\n",
    "    X['month'] = X.date.apply(lambda x : x.month)\n",
    "    X['year'] = X.date.apply(lambda x : x.year)\n",
    "    X['dayOfMonth'] = X.date.apply(lambda x : x.day)\n",
    "    X['dayOfWeek'] = X.date.apply(lambda x : x.isoweekday())\n",
    "    X['hour'] = X.date.apply(lambda x : x.hour)\n",
    "    X['month.p'] = 2*np.pi*X['month']/12.0\n",
    "    X['daysInMonth'] = X.month.replace(dates)\n",
    "    X['dayOfMonth.p'] = 2*np.pi*X['dayOfMonth']/X['daysInMonth']\n",
    "    X['dayOfWeek.p'] = 2*np.pi*X['dayOfWeek']/7.0\n",
    "    X['hour.p'] = 2*np.pi*X.hour/24.0\n",
    "    return X"
   ]
  },
  {
   "cell_type": "code",
   "execution_count": 11,
   "metadata": {},
   "outputs": [],
   "source": [
    "forecast = extract_dates(forecast)"
   ]
  },
  {
   "cell_type": "code",
   "execution_count": 17,
   "metadata": {},
   "outputs": [
    {
     "data": {
      "text/plain": [
       "<AxesSubplot:>"
      ]
     },
     "execution_count": 17,
     "metadata": {},
     "output_type": "execute_result"
    },
    {
     "data": {
      "image/png": "[encoded data removed]",
      "text/plain": [
       "<Figure size 432x288 with 1 Axes>"
      ]
     },
     "metadata": {
      "needs_background": "light"
     },
     "output_type": "display_data"
    }
   ],
   "source": [
    "#plt.xticks(forecast['date'])\n",
    "forecast['US48'].plot()\n",
    "days = 7\n",
    "forecast['US48'].rolling(days*24).quantile(0.995).plot()\n",
    "forecast['US48'].rolling(days*24).quantile(0.005).plot()\n",
    "forecast['US48'].rolling(days*24).mean().plot()\n",
    "forecast['AVG'] = forecast['US48'].mean()\n",
    "forecast['AVG'].plot()"
   ]
  },
  {
   "cell_type": "code",
   "execution_count": 18,
   "metadata": {},
   "outputs": [
    {
     "data": {
      "text/plain": [
       "<AxesSubplot:>"
      ]
     },
     "execution_count": 18,
     "metadata": {},
     "output_type": "execute_result"
    },
    {
     "data": {
      "image/png": "[encoded data removed]",
      "text/plain": [
       "<Figure size 432x288 with 1 Axes>"
      ]
     },
     "metadata": {
      "needs_background": "light"
     },
     "output_type": "display_data"
    }
   ],
   "source": [
    "roll = forecast['US48'].rolling(days*24).mean()\n",
    "sklearn.metrics.r2_score(demand['US48'].iloc[167-11:49297],roll.iloc[167:49297])\n",
    "demand['US48'].plot()\n",
    "roll.plot()"
   ]
  },
  {
   "cell_type": "code",
   "execution_count": 19,
   "metadata": {},
   "outputs": [],
   "source": [
    "def sin_cos(index, fourier):\n",
    "    mags  = list(map(lambda z: z.real, fourier))\n",
    "    freqs = list(map(lambda z: z.imag, fourier))\n",
    "    result = 0\n",
    "    for i in range(len(fourier)):\n",
    "        result = result + mags[i]*(np.cos(freqs[i]*i) + np.sin(freqs[i]*i))\n",
    "    return result"
   ]
  },
  {
   "cell_type": "code",
   "execution_count": 20,
   "metadata": {},
   "outputs": [
    {
     "data": {
      "text/plain": [
       "<AxesSubplot:>"
      ]
     },
     "execution_count": 20,
     "metadata": {},
     "output_type": "execute_result"
    },
    {
     "data": {
      "image/png": "[encoded data removed]",
      "text/plain": [
       "<Figure size 432x288 with 1 Axes>"
      ]
     },
     "metadata": {
      "needs_background": "light"
     },
     "output_type": "display_data"
    }
   ],
   "source": [
    "tyear = 2016\n",
    "forecast[forecast['year']==tyear]['US48'].rolling(days*24).mean().plot()\n",
    "fourier =((np.fft.ifft(np.fft.fft(forecast[forecast['year']==tyear]['US48']))))\n",
    "#print(list(map(lambda i: sin_cos(i, fourier[:1000]), forecast[forecast['year']==tyear].index)))\n",
    "#print(max(fourier.real))\n",
    "plt.plot((forecast[forecast['year']==tyear]['US48']).index, pd.Series(fourier).rolling(days*24).mean()+10000)\n",
    "#I did have these two variables just calculated inline, but that took a really long time\n",
    "med = forecast[forecast['year']==tyear]['US48'].quantile(0.5)\n",
    "std = forecast[forecast['year']==tyear]['US48'].std()\n",
    "\n",
    "#I played around with this to try and get a good manual fit with the period.\n",
    "forecast[forecast['year']==tyear]['month.p'].apply(\n",
    "    lambda x: med + std * np.sin(np.pi/2*x+np.pi/2)).plot()"
   ]
  },
  {
   "cell_type": "code",
   "execution_count": 21,
   "metadata": {},
   "outputs": [
    {
     "data": {
      "text/plain": [
       "<AxesSubplot:>"
      ]
     },
     "execution_count": 21,
     "metadata": {},
     "output_type": "execute_result"
    },
    {
     "data": {
      "image/png": "[encoded data removed]",
      "text/plain": [
       "<Figure size 432x288 with 1 Axes>"
      ]
     },
     "metadata": {
      "needs_background": "light"
     },
     "output_type": "display_data"
    }
   ],
   "source": [
    "forecast['US48'].plot()\n",
    "((forecast['US48'].rolling(days*24).quantile(0.995)+forecast['US48'].rolling(days*24).quantile(0.005))/2).plot()\n",
    "#forecast['US48'].rolling(days*24).mean().plot()"
   ]
  },
  {
   "cell_type": "code",
   "execution_count": 22,
   "metadata": {},
   "outputs": [
    {
     "data": {
      "text/plain": [
       "(49300, 82)"
      ]
     },
     "execution_count": 22,
     "metadata": {},
     "output_type": "execute_result"
    }
   ],
   "source": [
    "forecast.shape"
   ]
  },
  {
   "cell_type": "code",
   "execution_count": 23,
   "metadata": {},
   "outputs": [],
   "source": [
    "diff = forecast.shape[0] - demand.shape[0]"
   ]
  },
  {
   "cell_type": "code",
   "execution_count": 24,
   "metadata": {},
   "outputs": [
    {
     "data": {
      "text/plain": [
       "14"
      ]
     },
     "execution_count": 24,
     "metadata": {},
     "output_type": "execute_result"
    }
   ],
   "source": [
    "diff"
   ]
  },
  {
   "cell_type": "code",
   "execution_count": 25,
   "metadata": {},
   "outputs": [
    {
     "data": {
      "text/plain": [
       "(49214, 82)"
      ]
     },
     "execution_count": 25,
     "metadata": {},
     "output_type": "execute_result"
    }
   ],
   "source": [
    "forecast.iloc[86:].shape"
   ]
  },
  {
   "cell_type": "code",
   "execution_count": 26,
   "metadata": {},
   "outputs": [
    {
     "data": {
      "text/plain": [
       "0.9509745723874736"
      ]
     },
     "execution_count": 26,
     "metadata": {},
     "output_type": "execute_result"
    }
   ],
   "source": [
    "sklearn.metrics.r2_score(demand['US48'], forecast['US48'].iloc[:-diff])"
   ]
  },
  {
   "cell_type": "code",
   "execution_count": 27,
   "metadata": {},
   "outputs": [
    {
     "data": {
      "text/plain": [
       "277811653.22754943"
      ]
     },
     "execution_count": 27,
     "metadata": {},
     "output_type": "execute_result"
    }
   ],
   "source": [
    "mean_squared_error(demand['US48'], forecast['US48'].iloc[:-diff])"
   ]
  },
  {
   "cell_type": "code",
   "execution_count": 28,
   "metadata": {},
   "outputs": [
    {
     "data": {
      "text/plain": [
       "0"
      ]
     },
     "execution_count": 28,
     "metadata": {},
     "output_type": "execute_result"
    }
   ],
   "source": [
    "d = pd.DataFrame()\n",
    "(demand['CAL'].iat[4]==0).sum()"
   ]
  },
  {
   "cell_type": "code",
   "execution_count": 29,
   "metadata": {},
   "outputs": [
    {
     "data": {
      "text/html": [
       "<div>\n",
       "<style scoped>\n",
       "    .dataframe tbody tr th:only-of-type {\n",
       "        vertical-align: middle;\n",
       "    }\n",
       "\n",
       "    .dataframe tbody tr th {\n",
       "        vertical-align: top;\n",
       "    }\n",
       "\n",
       "    .dataframe thead th {\n",
       "        text-align: right;\n",
       "    }\n",
       "</style>\n",
       "<table border=\"1\" class=\"dataframe\">\n",
       "  <thead>\n",
       "    <tr style=\"text-align: right;\">\n",
       "      <th></th>\n",
       "      <th>date</th>\n",
       "      <th>US48</th>\n",
       "      <th>CAL</th>\n",
       "      <th>CAR</th>\n",
       "      <th>CENT</th>\n",
       "      <th>FLA</th>\n",
       "      <th>MIDA</th>\n",
       "      <th>MIDW</th>\n",
       "      <th>NE</th>\n",
       "      <th>NY</th>\n",
       "      <th>...</th>\n",
       "      <th>SWPP</th>\n",
       "      <th>SPA</th>\n",
       "      <th>TEC</th>\n",
       "      <th>TVA</th>\n",
       "      <th>TEPC</th>\n",
       "      <th>TIDC</th>\n",
       "      <th>NSB</th>\n",
       "      <th>WALC</th>\n",
       "      <th>WACM</th>\n",
       "      <th>WAUW</th>\n",
       "    </tr>\n",
       "  </thead>\n",
       "  <tbody>\n",
       "    <tr>\n",
       "      <th>0</th>\n",
       "      <td>2015-07-01 05:00:00+00:00</td>\n",
       "      <td>162827.0</td>\n",
       "      <td>0.0</td>\n",
       "      <td>22945.0</td>\n",
       "      <td>0.0</td>\n",
       "      <td>26384.0</td>\n",
       "      <td>84024.0</td>\n",
       "      <td>0.0</td>\n",
       "      <td>12583.0</td>\n",
       "      <td>16891.0</td>\n",
       "      <td>...</td>\n",
       "      <td>0.0</td>\n",
       "      <td>0.0</td>\n",
       "      <td>2541.0</td>\n",
       "      <td>0.0</td>\n",
       "      <td>0.0</td>\n",
       "      <td>0.0</td>\n",
       "      <td>47.0</td>\n",
       "      <td>0.0</td>\n",
       "      <td>0.0</td>\n",
       "      <td>0.0</td>\n",
       "    </tr>\n",
       "    <tr>\n",
       "      <th>1</th>\n",
       "      <td>2015-07-01 06:00:00+00:00</td>\n",
       "      <td>335153.0</td>\n",
       "      <td>0.0</td>\n",
       "      <td>21396.0</td>\n",
       "      <td>28985.0</td>\n",
       "      <td>24336.0</td>\n",
       "      <td>79791.0</td>\n",
       "      <td>73432.0</td>\n",
       "      <td>12349.0</td>\n",
       "      <td>16027.0</td>\n",
       "      <td>...</td>\n",
       "      <td>28891.0</td>\n",
       "      <td>94.0</td>\n",
       "      <td>2367.0</td>\n",
       "      <td>16136.0</td>\n",
       "      <td>0.0</td>\n",
       "      <td>0.0</td>\n",
       "      <td>46.0</td>\n",
       "      <td>0.0</td>\n",
       "      <td>0.0</td>\n",
       "      <td>0.0</td>\n",
       "    </tr>\n",
       "    <tr>\n",
       "      <th>2</th>\n",
       "      <td>2015-07-01 07:00:00+00:00</td>\n",
       "      <td>333837.0</td>\n",
       "      <td>0.0</td>\n",
       "      <td>20627.0</td>\n",
       "      <td>27498.0</td>\n",
       "      <td>22842.0</td>\n",
       "      <td>76760.0</td>\n",
       "      <td>70211.0</td>\n",
       "      <td>12445.0</td>\n",
       "      <td>15541.0</td>\n",
       "      <td>...</td>\n",
       "      <td>27413.0</td>\n",
       "      <td>85.0</td>\n",
       "      <td>2246.0</td>\n",
       "      <td>15503.0</td>\n",
       "      <td>0.0</td>\n",
       "      <td>0.0</td>\n",
       "      <td>43.0</td>\n",
       "      <td>0.0</td>\n",
       "      <td>0.0</td>\n",
       "      <td>0.0</td>\n",
       "    </tr>\n",
       "    <tr>\n",
       "      <th>3</th>\n",
       "      <td>2015-07-01 08:00:00+00:00</td>\n",
       "      <td>398386.0</td>\n",
       "      <td>38210.0</td>\n",
       "      <td>20102.0</td>\n",
       "      <td>26384.0</td>\n",
       "      <td>21906.0</td>\n",
       "      <td>74931.0</td>\n",
       "      <td>68163.0</td>\n",
       "      <td>12385.0</td>\n",
       "      <td>15283.0</td>\n",
       "      <td>...</td>\n",
       "      <td>26291.0</td>\n",
       "      <td>93.0</td>\n",
       "      <td>2179.0</td>\n",
       "      <td>14896.0</td>\n",
       "      <td>1605.0</td>\n",
       "      <td>408.0</td>\n",
       "      <td>40.0</td>\n",
       "      <td>1119.0</td>\n",
       "      <td>0.0</td>\n",
       "      <td>0.0</td>\n",
       "    </tr>\n",
       "    <tr>\n",
       "      <th>4</th>\n",
       "      <td>2015-07-01 09:00:00+00:00</td>\n",
       "      <td>388954.0</td>\n",
       "      <td>35171.0</td>\n",
       "      <td>19931.0</td>\n",
       "      <td>25663.0</td>\n",
       "      <td>21615.0</td>\n",
       "      <td>74368.0</td>\n",
       "      <td>67309.0</td>\n",
       "      <td>12387.0</td>\n",
       "      <td>15304.0</td>\n",
       "      <td>...</td>\n",
       "      <td>25582.0</td>\n",
       "      <td>81.0</td>\n",
       "      <td>2157.0</td>\n",
       "      <td>14663.0</td>\n",
       "      <td>1537.0</td>\n",
       "      <td>380.0</td>\n",
       "      <td>38.0</td>\n",
       "      <td>1018.0</td>\n",
       "      <td>0.0</td>\n",
       "      <td>0.0</td>\n",
       "    </tr>\n",
       "  </tbody>\n",
       "</table>\n",
       "<p>5 rows × 71 columns</p>\n",
       "</div>"
      ],
      "text/plain": [
       "                        date      US48      CAL      CAR     CENT      FLA  \\\n",
       "0  2015-07-01 05:00:00+00:00  162827.0      0.0  22945.0      0.0  26384.0   \n",
       "1  2015-07-01 06:00:00+00:00  335153.0      0.0  21396.0  28985.0  24336.0   \n",
       "2  2015-07-01 07:00:00+00:00  333837.0      0.0  20627.0  27498.0  22842.0   \n",
       "3  2015-07-01 08:00:00+00:00  398386.0  38210.0  20102.0  26384.0  21906.0   \n",
       "4  2015-07-01 09:00:00+00:00  388954.0  35171.0  19931.0  25663.0  21615.0   \n",
       "\n",
       "      MIDA     MIDW       NE       NY  ...     SWPP   SPA     TEC      TVA  \\\n",
       "0  84024.0      0.0  12583.0  16891.0  ...      0.0   0.0  2541.0      0.0   \n",
       "1  79791.0  73432.0  12349.0  16027.0  ...  28891.0  94.0  2367.0  16136.0   \n",
       "2  76760.0  70211.0  12445.0  15541.0  ...  27413.0  85.0  2246.0  15503.0   \n",
       "3  74931.0  68163.0  12385.0  15283.0  ...  26291.0  93.0  2179.0  14896.0   \n",
       "4  74368.0  67309.0  12387.0  15304.0  ...  25582.0  81.0  2157.0  14663.0   \n",
       "\n",
       "     TEPC   TIDC   NSB    WALC  WACM  WAUW  \n",
       "0     0.0    0.0  47.0     0.0   0.0   0.0  \n",
       "1     0.0    0.0  46.0     0.0   0.0   0.0  \n",
       "2     0.0    0.0  43.0     0.0   0.0   0.0  \n",
       "3  1605.0  408.0  40.0  1119.0   0.0   0.0  \n",
       "4  1537.0  380.0  38.0  1018.0   0.0   0.0  \n",
       "\n",
       "[5 rows x 71 columns]"
      ]
     },
     "execution_count": 29,
     "metadata": {},
     "output_type": "execute_result"
    }
   ],
   "source": [
    "for column in demand.columns:\n",
    "    for i in range(len(demand[column])):\n",
    "        d[column] = demand[column]\n",
    "        if (d[column].iloc[:i]==0).sum() == i:\n",
    "            d[column].iloc[:i] = np.NAN\n",
    "        else: \n",
    "            break\n",
    "d.head()"
   ]
  },
  {
   "cell_type": "markdown",
   "metadata": {},
   "source": [
    "Here we create time shifted versions of select features for analysis"
   ]
  },
  {
   "cell_type": "code",
   "execution_count": 30,
   "metadata": {},
   "outputs": [],
   "source": [
    "us_demand = demand[['date', 'US48']]\n",
    "for i in [1,2,3,12,24,48,72]:\n",
    "    us_demand['US48.H' + str(i)] = us_demand['US48'].shift(i)\n",
    "us_demand = us_demand.iloc[72:]"
   ]
  },
  {
   "cell_type": "code",
   "execution_count": 31,
   "metadata": {},
   "outputs": [
    {
     "data": {
      "text/html": [
       "<div>\n",
       "<style scoped>\n",
       "    .dataframe tbody tr th:only-of-type {\n",
       "        vertical-align: middle;\n",
       "    }\n",
       "\n",
       "    .dataframe tbody tr th {\n",
       "        vertical-align: top;\n",
       "    }\n",
       "\n",
       "    .dataframe thead th {\n",
       "        text-align: right;\n",
       "    }\n",
       "</style>\n",
       "<table border=\"1\" class=\"dataframe\">\n",
       "  <thead>\n",
       "    <tr style=\"text-align: right;\">\n",
       "      <th></th>\n",
       "      <th>date</th>\n",
       "      <th>US48</th>\n",
       "      <th>US48.H1</th>\n",
       "      <th>US48.H2</th>\n",
       "      <th>US48.H3</th>\n",
       "      <th>US48.H12</th>\n",
       "      <th>US48.H24</th>\n",
       "      <th>US48.H48</th>\n",
       "      <th>US48.H72</th>\n",
       "    </tr>\n",
       "  </thead>\n",
       "  <tbody>\n",
       "    <tr>\n",
       "      <th>72</th>\n",
       "      <td>2015-07-04 05:00:00+00:00</td>\n",
       "      <td>428928.0</td>\n",
       "      <td>455366.0</td>\n",
       "      <td>482726.0</td>\n",
       "      <td>500554.0</td>\n",
       "      <td>487268.0</td>\n",
       "      <td>440084.0</td>\n",
       "      <td>453284.0</td>\n",
       "      <td>162827.0</td>\n",
       "    </tr>\n",
       "    <tr>\n",
       "      <th>73</th>\n",
       "      <td>2015-07-04 06:00:00+00:00</td>\n",
       "      <td>403685.0</td>\n",
       "      <td>428928.0</td>\n",
       "      <td>455366.0</td>\n",
       "      <td>482726.0</td>\n",
       "      <td>504422.0</td>\n",
       "      <td>415203.0</td>\n",
       "      <td>429199.0</td>\n",
       "      <td>335153.0</td>\n",
       "    </tr>\n",
       "    <tr>\n",
       "      <th>74</th>\n",
       "      <td>2015-07-04 07:00:00+00:00</td>\n",
       "      <td>384331.0</td>\n",
       "      <td>403685.0</td>\n",
       "      <td>428928.0</td>\n",
       "      <td>455366.0</td>\n",
       "      <td>518545.0</td>\n",
       "      <td>394227.0</td>\n",
       "      <td>407007.0</td>\n",
       "      <td>333837.0</td>\n",
       "    </tr>\n",
       "    <tr>\n",
       "      <th>75</th>\n",
       "      <td>2015-07-04 08:00:00+00:00</td>\n",
       "      <td>373639.0</td>\n",
       "      <td>384331.0</td>\n",
       "      <td>403685.0</td>\n",
       "      <td>428928.0</td>\n",
       "      <td>528781.0</td>\n",
       "      <td>383147.0</td>\n",
       "      <td>395194.0</td>\n",
       "      <td>398386.0</td>\n",
       "    </tr>\n",
       "    <tr>\n",
       "      <th>76</th>\n",
       "      <td>2015-07-04 09:00:00+00:00</td>\n",
       "      <td>363002.0</td>\n",
       "      <td>373639.0</td>\n",
       "      <td>384331.0</td>\n",
       "      <td>403685.0</td>\n",
       "      <td>536381.0</td>\n",
       "      <td>373941.0</td>\n",
       "      <td>387654.0</td>\n",
       "      <td>388954.0</td>\n",
       "    </tr>\n",
       "  </tbody>\n",
       "</table>\n",
       "</div>"
      ],
      "text/plain": [
       "                         date      US48   US48.H1   US48.H2   US48.H3  \\\n",
       "72  2015-07-04 05:00:00+00:00  428928.0  455366.0  482726.0  500554.0   \n",
       "73  2015-07-04 06:00:00+00:00  403685.0  428928.0  455366.0  482726.0   \n",
       "74  2015-07-04 07:00:00+00:00  384331.0  403685.0  428928.0  455366.0   \n",
       "75  2015-07-04 08:00:00+00:00  373639.0  384331.0  403685.0  428928.0   \n",
       "76  2015-07-04 09:00:00+00:00  363002.0  373639.0  384331.0  403685.0   \n",
       "\n",
       "    US48.H12  US48.H24  US48.H48  US48.H72  \n",
       "72  487268.0  440084.0  453284.0  162827.0  \n",
       "73  504422.0  415203.0  429199.0  335153.0  \n",
       "74  518545.0  394227.0  407007.0  333837.0  \n",
       "75  528781.0  383147.0  395194.0  398386.0  \n",
       "76  536381.0  373941.0  387654.0  388954.0  "
      ]
     },
     "execution_count": 31,
     "metadata": {},
     "output_type": "execute_result"
    }
   ],
   "source": [
    "us_demand.head()"
   ]
  },
  {
   "cell_type": "code",
   "execution_count": 32,
   "metadata": {},
   "outputs": [],
   "source": [
    "us_demand['US48.(H2-H1)'] = us_demand['US48.H2']- us_demand['US48.H1']\n",
    "us_demand['US48.(H3-H2)'] = us_demand['US48.H3']- us_demand['US48.H2']\n",
    "us_demand['US48.(H48-H24)'] = us_demand['US48.H48']- us_demand['US48.H24']\n",
    "us_demand['US48.(H72-H48)'] = us_demand['US48.H72']- us_demand['US48.H48']"
   ]
  },
  {
   "cell_type": "code",
   "execution_count": 33,
   "metadata": {},
   "outputs": [
    {
     "name": "stdout",
     "output_type": "stream",
     "text": [
      "<class 'pandas.core.frame.DataFrame'>\n",
      "Int64Index: 49214 entries, 72 to 49285\n",
      "Data columns (total 13 columns):\n",
      " #   Column          Non-Null Count  Dtype  \n",
      "---  ------          --------------  -----  \n",
      " 0   date            49214 non-null  object \n",
      " 1   US48            49214 non-null  float64\n",
      " 2   US48.H1         49214 non-null  float64\n",
      " 3   US48.H2         49214 non-null  float64\n",
      " 4   US48.H3         49214 non-null  float64\n",
      " 5   US48.H12        49214 non-null  float64\n",
      " 6   US48.H24        49214 non-null  float64\n",
      " 7   US48.H48        49214 non-null  float64\n",
      " 8   US48.H72        49214 non-null  float64\n",
      " 9   US48.(H2-H1)    49214 non-null  float64\n",
      " 10  US48.(H3-H2)    49214 non-null  float64\n",
      " 11  US48.(H48-H24)  49214 non-null  float64\n",
      " 12  US48.(H72-H48)  49214 non-null  float64\n",
      "dtypes: float64(12), object(1)\n",
      "memory usage: 5.3+ MB\n"
     ]
    }
   ],
   "source": [
    "us_demand.info()"
   ]
  },
  {
   "cell_type": "markdown",
   "metadata": {},
   "source": [
    "Now prep for training models."
   ]
  },
  {
   "cell_type": "code",
   "execution_count": 34,
   "metadata": {},
   "outputs": [],
   "source": [
    "X = us_demand.drop(['US48'], axis=1)\n",
    "y = us_demand['US48']\n",
    "tscv = TimeSeriesSplit(n_splits=10)\n"
   ]
  },
  {
   "cell_type": "code",
   "execution_count": 35,
   "metadata": {},
   "outputs": [],
   "source": [
    "tscv\n",
    "cv_results = sklearn.model_selection.cross_val_score(linear_model.LinearRegression(), X.iloc[:30000], y[:30000], cv=tscv, scoring='r2')"
   ]
  },
  {
   "cell_type": "code",
   "execution_count": 36,
   "metadata": {},
   "outputs": [
    {
     "data": {
      "text/plain": [
       "array([nan, nan, nan, nan, nan, nan, nan, nan, nan, nan])"
      ]
     },
     "execution_count": 36,
     "metadata": {},
     "output_type": "execute_result"
    }
   ],
   "source": [
    "cv_results"
   ]
  },
  {
   "cell_type": "code",
   "execution_count": 37,
   "metadata": {},
   "outputs": [],
   "source": [
    "model = linear_model.LinearRegression()\n",
    "X['date'] = pd.to_datetime(X.date)\n",
    "X['month'] = X.date.apply(lambda x : x.month)\n",
    "X['year'] = X.date.apply(lambda x : x.year)\n",
    "X['dayOfMonth'] = X.date.apply(lambda x : x.day)\n",
    "X['dayOfWeek'] = X.date.apply(lambda x : x.isoweekday())\n",
    "X['hour'] = X.date.apply(lambda x : x.hour)"
   ]
  },
  {
   "cell_type": "code",
   "execution_count": 38,
   "metadata": {},
   "outputs": [
    {
     "data": {
      "text/html": [
       "<div>\n",
       "<style scoped>\n",
       "    .dataframe tbody tr th:only-of-type {\n",
       "        vertical-align: middle;\n",
       "    }\n",
       "\n",
       "    .dataframe tbody tr th {\n",
       "        vertical-align: top;\n",
       "    }\n",
       "\n",
       "    .dataframe thead th {\n",
       "        text-align: right;\n",
       "    }\n",
       "</style>\n",
       "<table border=\"1\" class=\"dataframe\">\n",
       "  <thead>\n",
       "    <tr style=\"text-align: right;\">\n",
       "      <th></th>\n",
       "      <th>date</th>\n",
       "      <th>US48.H1</th>\n",
       "      <th>US48.H2</th>\n",
       "      <th>US48.H3</th>\n",
       "      <th>US48.H12</th>\n",
       "      <th>US48.H24</th>\n",
       "      <th>US48.H48</th>\n",
       "      <th>US48.H72</th>\n",
       "      <th>US48.(H2-H1)</th>\n",
       "      <th>US48.(H3-H2)</th>\n",
       "      <th>US48.(H48-H24)</th>\n",
       "      <th>US48.(H72-H48)</th>\n",
       "      <th>month</th>\n",
       "      <th>year</th>\n",
       "      <th>dayOfMonth</th>\n",
       "      <th>dayOfWeek</th>\n",
       "      <th>hour</th>\n",
       "    </tr>\n",
       "  </thead>\n",
       "  <tbody>\n",
       "    <tr>\n",
       "      <th>72</th>\n",
       "      <td>2015-07-04 05:00:00+00:00</td>\n",
       "      <td>455366.0</td>\n",
       "      <td>482726.0</td>\n",
       "      <td>500554.0</td>\n",
       "      <td>487268.0</td>\n",
       "      <td>440084.0</td>\n",
       "      <td>453284.0</td>\n",
       "      <td>162827.0</td>\n",
       "      <td>27360.0</td>\n",
       "      <td>17828.0</td>\n",
       "      <td>13200.0</td>\n",
       "      <td>-290457.0</td>\n",
       "      <td>7</td>\n",
       "      <td>2015</td>\n",
       "      <td>4</td>\n",
       "      <td>6</td>\n",
       "      <td>5</td>\n",
       "    </tr>\n",
       "    <tr>\n",
       "      <th>73</th>\n",
       "      <td>2015-07-04 06:00:00+00:00</td>\n",
       "      <td>428928.0</td>\n",
       "      <td>455366.0</td>\n",
       "      <td>482726.0</td>\n",
       "      <td>504422.0</td>\n",
       "      <td>415203.0</td>\n",
       "      <td>429199.0</td>\n",
       "      <td>335153.0</td>\n",
       "      <td>26438.0</td>\n",
       "      <td>27360.0</td>\n",
       "      <td>13996.0</td>\n",
       "      <td>-94046.0</td>\n",
       "      <td>7</td>\n",
       "      <td>2015</td>\n",
       "      <td>4</td>\n",
       "      <td>6</td>\n",
       "      <td>6</td>\n",
       "    </tr>\n",
       "    <tr>\n",
       "      <th>74</th>\n",
       "      <td>2015-07-04 07:00:00+00:00</td>\n",
       "      <td>403685.0</td>\n",
       "      <td>428928.0</td>\n",
       "      <td>455366.0</td>\n",
       "      <td>518545.0</td>\n",
       "      <td>394227.0</td>\n",
       "      <td>407007.0</td>\n",
       "      <td>333837.0</td>\n",
       "      <td>25243.0</td>\n",
       "      <td>26438.0</td>\n",
       "      <td>12780.0</td>\n",
       "      <td>-73170.0</td>\n",
       "      <td>7</td>\n",
       "      <td>2015</td>\n",
       "      <td>4</td>\n",
       "      <td>6</td>\n",
       "      <td>7</td>\n",
       "    </tr>\n",
       "    <tr>\n",
       "      <th>75</th>\n",
       "      <td>2015-07-04 08:00:00+00:00</td>\n",
       "      <td>384331.0</td>\n",
       "      <td>403685.0</td>\n",
       "      <td>428928.0</td>\n",
       "      <td>528781.0</td>\n",
       "      <td>383147.0</td>\n",
       "      <td>395194.0</td>\n",
       "      <td>398386.0</td>\n",
       "      <td>19354.0</td>\n",
       "      <td>25243.0</td>\n",
       "      <td>12047.0</td>\n",
       "      <td>3192.0</td>\n",
       "      <td>7</td>\n",
       "      <td>2015</td>\n",
       "      <td>4</td>\n",
       "      <td>6</td>\n",
       "      <td>8</td>\n",
       "    </tr>\n",
       "    <tr>\n",
       "      <th>76</th>\n",
       "      <td>2015-07-04 09:00:00+00:00</td>\n",
       "      <td>373639.0</td>\n",
       "      <td>384331.0</td>\n",
       "      <td>403685.0</td>\n",
       "      <td>536381.0</td>\n",
       "      <td>373941.0</td>\n",
       "      <td>387654.0</td>\n",
       "      <td>388954.0</td>\n",
       "      <td>10692.0</td>\n",
       "      <td>19354.0</td>\n",
       "      <td>13713.0</td>\n",
       "      <td>1300.0</td>\n",
       "      <td>7</td>\n",
       "      <td>2015</td>\n",
       "      <td>4</td>\n",
       "      <td>6</td>\n",
       "      <td>9</td>\n",
       "    </tr>\n",
       "  </tbody>\n",
       "</table>\n",
       "</div>"
      ],
      "text/plain": [
       "                        date   US48.H1   US48.H2   US48.H3  US48.H12  \\\n",
       "72 2015-07-04 05:00:00+00:00  455366.0  482726.0  500554.0  487268.0   \n",
       "73 2015-07-04 06:00:00+00:00  428928.0  455366.0  482726.0  504422.0   \n",
       "74 2015-07-04 07:00:00+00:00  403685.0  428928.0  455366.0  518545.0   \n",
       "75 2015-07-04 08:00:00+00:00  384331.0  403685.0  428928.0  528781.0   \n",
       "76 2015-07-04 09:00:00+00:00  373639.0  384331.0  403685.0  536381.0   \n",
       "\n",
       "    US48.H24  US48.H48  US48.H72  US48.(H2-H1)  US48.(H3-H2)  US48.(H48-H24)  \\\n",
       "72  440084.0  453284.0  162827.0       27360.0       17828.0         13200.0   \n",
       "73  415203.0  429199.0  335153.0       26438.0       27360.0         13996.0   \n",
       "74  394227.0  407007.0  333837.0       25243.0       26438.0         12780.0   \n",
       "75  383147.0  395194.0  398386.0       19354.0       25243.0         12047.0   \n",
       "76  373941.0  387654.0  388954.0       10692.0       19354.0         13713.0   \n",
       "\n",
       "    US48.(H72-H48)  month  year  dayOfMonth  dayOfWeek  hour  \n",
       "72       -290457.0      7  2015           4          6     5  \n",
       "73        -94046.0      7  2015           4          6     6  \n",
       "74        -73170.0      7  2015           4          6     7  \n",
       "75          3192.0      7  2015           4          6     8  \n",
       "76          1300.0      7  2015           4          6     9  "
      ]
     },
     "execution_count": 38,
     "metadata": {},
     "output_type": "execute_result"
    }
   ],
   "source": [
    "X.head()"
   ]
  },
  {
   "cell_type": "code",
   "execution_count": 39,
   "metadata": {},
   "outputs": [
    {
     "data": {
      "text/plain": [
       "LinearRegression()"
      ]
     },
     "execution_count": 39,
     "metadata": {},
     "output_type": "execute_result"
    }
   ],
   "source": [
    "model.fit(pd.DataFrame(X[['US48.H24', 'year', 'month', 'dayOfMonth', 'dayOfWeek', 'hour']].iloc[:10000]),pd.DataFrame(y.iloc[:10000]))\n",
    "model2 = linear_model.LinearRegression()\n",
    "model2.fit(pd.DataFrame(X[['US48.H24']].iloc[:10000]),pd.DataFrame(y.iloc[:10000]))"
   ]
  },
  {
   "cell_type": "code",
   "execution_count": 40,
   "metadata": {},
   "outputs": [
    {
     "data": {
      "text/plain": [
       "0.9268866378364472"
      ]
     },
     "execution_count": 40,
     "metadata": {},
     "output_type": "execute_result"
    }
   ],
   "source": [
    "model.score(pd.DataFrame(X[['US48.H24', 'year', 'month', 'dayOfMonth', 'dayOfWeek', 'hour']].iloc[10000:]), pd.DataFrame(y.iloc[10000:]))"
   ]
  },
  {
   "cell_type": "code",
   "execution_count": 107,
   "metadata": {},
   "outputs": [
    {
     "data": {
      "text/html": [
       "<div>\n",
       "<style scoped>\n",
       "    .dataframe tbody tr th:only-of-type {\n",
       "        vertical-align: middle;\n",
       "    }\n",
       "\n",
       "    .dataframe tbody tr th {\n",
       "        vertical-align: top;\n",
       "    }\n",
       "\n",
       "    .dataframe thead th {\n",
       "        text-align: right;\n",
       "    }\n",
       "</style>\n",
       "<table border=\"1\" class=\"dataframe\">\n",
       "  <thead>\n",
       "    <tr style=\"text-align: right;\">\n",
       "      <th></th>\n",
       "      <th>date</th>\n",
       "      <th>US48.H1</th>\n",
       "      <th>US48.H2</th>\n",
       "      <th>US48.H3</th>\n",
       "      <th>US48.H12</th>\n",
       "      <th>US48.H24</th>\n",
       "      <th>US48.H48</th>\n",
       "      <th>US48.H72</th>\n",
       "      <th>US48.(H2-H1)</th>\n",
       "      <th>US48.(H3-H2)</th>\n",
       "      <th>US48.(H48-H24)</th>\n",
       "      <th>US48.(H72-H48)</th>\n",
       "      <th>month</th>\n",
       "      <th>year</th>\n",
       "      <th>dayOfMonth</th>\n",
       "      <th>dayOfWeek</th>\n",
       "      <th>hour</th>\n",
       "    </tr>\n",
       "  </thead>\n",
       "  <tbody>\n",
       "    <tr>\n",
       "      <th>72</th>\n",
       "      <td>2015-07-04 05:00:00+00:00</td>\n",
       "      <td>455366.0</td>\n",
       "      <td>482726.0</td>\n",
       "      <td>500554.0</td>\n",
       "      <td>487268.0</td>\n",
       "      <td>440084.0</td>\n",
       "      <td>453284.0</td>\n",
       "      <td>162827.0</td>\n",
       "      <td>27360.0</td>\n",
       "      <td>17828.0</td>\n",
       "      <td>13200.0</td>\n",
       "      <td>-290457.0</td>\n",
       "      <td>7</td>\n",
       "      <td>2015</td>\n",
       "      <td>4</td>\n",
       "      <td>6</td>\n",
       "      <td>5</td>\n",
       "    </tr>\n",
       "    <tr>\n",
       "      <th>73</th>\n",
       "      <td>2015-07-04 06:00:00+00:00</td>\n",
       "      <td>428928.0</td>\n",
       "      <td>455366.0</td>\n",
       "      <td>482726.0</td>\n",
       "      <td>504422.0</td>\n",
       "      <td>415203.0</td>\n",
       "      <td>429199.0</td>\n",
       "      <td>335153.0</td>\n",
       "      <td>26438.0</td>\n",
       "      <td>27360.0</td>\n",
       "      <td>13996.0</td>\n",
       "      <td>-94046.0</td>\n",
       "      <td>7</td>\n",
       "      <td>2015</td>\n",
       "      <td>4</td>\n",
       "      <td>6</td>\n",
       "      <td>6</td>\n",
       "    </tr>\n",
       "    <tr>\n",
       "      <th>74</th>\n",
       "      <td>2015-07-04 07:00:00+00:00</td>\n",
       "      <td>403685.0</td>\n",
       "      <td>428928.0</td>\n",
       "      <td>455366.0</td>\n",
       "      <td>518545.0</td>\n",
       "      <td>394227.0</td>\n",
       "      <td>407007.0</td>\n",
       "      <td>333837.0</td>\n",
       "      <td>25243.0</td>\n",
       "      <td>26438.0</td>\n",
       "      <td>12780.0</td>\n",
       "      <td>-73170.0</td>\n",
       "      <td>7</td>\n",
       "      <td>2015</td>\n",
       "      <td>4</td>\n",
       "      <td>6</td>\n",
       "      <td>7</td>\n",
       "    </tr>\n",
       "    <tr>\n",
       "      <th>75</th>\n",
       "      <td>2015-07-04 08:00:00+00:00</td>\n",
       "      <td>384331.0</td>\n",
       "      <td>403685.0</td>\n",
       "      <td>428928.0</td>\n",
       "      <td>528781.0</td>\n",
       "      <td>383147.0</td>\n",
       "      <td>395194.0</td>\n",
       "      <td>398386.0</td>\n",
       "      <td>19354.0</td>\n",
       "      <td>25243.0</td>\n",
       "      <td>12047.0</td>\n",
       "      <td>3192.0</td>\n",
       "      <td>7</td>\n",
       "      <td>2015</td>\n",
       "      <td>4</td>\n",
       "      <td>6</td>\n",
       "      <td>8</td>\n",
       "    </tr>\n",
       "    <tr>\n",
       "      <th>76</th>\n",
       "      <td>2015-07-04 09:00:00+00:00</td>\n",
       "      <td>373639.0</td>\n",
       "      <td>384331.0</td>\n",
       "      <td>403685.0</td>\n",
       "      <td>536381.0</td>\n",
       "      <td>373941.0</td>\n",
       "      <td>387654.0</td>\n",
       "      <td>388954.0</td>\n",
       "      <td>10692.0</td>\n",
       "      <td>19354.0</td>\n",
       "      <td>13713.0</td>\n",
       "      <td>1300.0</td>\n",
       "      <td>7</td>\n",
       "      <td>2015</td>\n",
       "      <td>4</td>\n",
       "      <td>6</td>\n",
       "      <td>9</td>\n",
       "    </tr>\n",
       "  </tbody>\n",
       "</table>\n",
       "</div>"
      ],
      "text/plain": [
       "                        date   US48.H1   US48.H2   US48.H3  US48.H12  \\\n",
       "72 2015-07-04 05:00:00+00:00  455366.0  482726.0  500554.0  487268.0   \n",
       "73 2015-07-04 06:00:00+00:00  428928.0  455366.0  482726.0  504422.0   \n",
       "74 2015-07-04 07:00:00+00:00  403685.0  428928.0  455366.0  518545.0   \n",
       "75 2015-07-04 08:00:00+00:00  384331.0  403685.0  428928.0  528781.0   \n",
       "76 2015-07-04 09:00:00+00:00  373639.0  384331.0  403685.0  536381.0   \n",
       "\n",
       "    US48.H24  US48.H48  US48.H72  US48.(H2-H1)  US48.(H3-H2)  US48.(H48-H24)  \\\n",
       "72  440084.0  453284.0  162827.0       27360.0       17828.0         13200.0   \n",
       "73  415203.0  429199.0  335153.0       26438.0       27360.0         13996.0   \n",
       "74  394227.0  407007.0  333837.0       25243.0       26438.0         12780.0   \n",
       "75  383147.0  395194.0  398386.0       19354.0       25243.0         12047.0   \n",
       "76  373941.0  387654.0  388954.0       10692.0       19354.0         13713.0   \n",
       "\n",
       "    US48.(H72-H48)  month  year  dayOfMonth  dayOfWeek  hour  \n",
       "72       -290457.0      7  2015           4          6     5  \n",
       "73        -94046.0      7  2015           4          6     6  \n",
       "74        -73170.0      7  2015           4          6     7  \n",
       "75          3192.0      7  2015           4          6     8  \n",
       "76          1300.0      7  2015           4          6     9  "
      ]
     },
     "execution_count": 107,
     "metadata": {},
     "output_type": "execute_result"
    }
   ],
   "source": [
    "X.head()"
   ]
  },
  {
   "cell_type": "code",
   "execution_count": 108,
   "metadata": {},
   "outputs": [
    {
     "data": {
      "text/plain": [
       "363977083.505702"
      ]
     },
     "execution_count": 108,
     "metadata": {},
     "output_type": "execute_result"
    }
   ],
   "source": [
    "mean_squared_error(pd.DataFrame(y.iloc[30000:]), model.predict(pd.DataFrame(X[['US48.H24', 'year', 'month', 'dayOfMonth', 'dayOfWeek', 'hour']].iloc[30000:])))"
   ]
  },
  {
   "cell_type": "code",
   "execution_count": 109,
   "metadata": {},
   "outputs": [
    {
     "data": {
      "text/plain": [
       "363977083.505702"
      ]
     },
     "execution_count": 109,
     "metadata": {},
     "output_type": "execute_result"
    }
   ],
   "source": [
    "mean_squared_error(pd.DataFrame(y.iloc[30000:]), model.predict(pd.DataFrame(X[['US48.H24', 'year', 'month', 'dayOfMonth', 'dayOfWeek', 'hour']].iloc[30000:])))"
   ]
  },
  {
   "cell_type": "code",
   "execution_count": 110,
   "metadata": {},
   "outputs": [],
   "source": [
    "#percent ERROR"
   ]
  },
  {
   "cell_type": "code",
   "execution_count": 111,
   "metadata": {},
   "outputs": [
    {
     "data": {
      "text/plain": [
       "0.020892589971538186"
      ]
     },
     "execution_count": 111,
     "metadata": {},
     "output_type": "execute_result"
    }
   ],
   "source": [
    "mean_absolute_error(pd.DataFrame(y.iloc[30000:]), model.predict(pd.DataFrame(X[['US48.H24', 'year', 'month', 'dayOfMonth', 'dayOfWeek', 'hour']].iloc[30000:])))/y.max()"
   ]
  },
  {
   "cell_type": "code",
   "execution_count": 112,
   "metadata": {},
   "outputs": [
    {
     "data": {
      "text/plain": [
       "72      2015-07-04 05:00:00+00:00\n",
       "73      2015-07-04 06:00:00+00:00\n",
       "74      2015-07-04 07:00:00+00:00\n",
       "75      2015-07-04 08:00:00+00:00\n",
       "76      2015-07-04 09:00:00+00:00\n",
       "                   ...           \n",
       "49281   2021-02-12 14:00:00+00:00\n",
       "49282   2021-02-12 15:00:00+00:00\n",
       "49283   2021-02-12 16:00:00+00:00\n",
       "49284   2021-02-12 17:00:00+00:00\n",
       "49285   2021-02-12 18:00:00+00:00\n",
       "Name: date, Length: 49214, dtype: datetime64[ns, UTC]"
      ]
     },
     "execution_count": 112,
     "metadata": {},
     "output_type": "execute_result"
    }
   ],
   "source": [
    "X.date"
   ]
  },
  {
   "cell_type": "code",
   "execution_count": 113,
   "metadata": {},
   "outputs": [],
   "source": [
    "def mae(actual, pred):\n",
    "    return (actual-pred).apply(abs).max()"
   ]
  },
  {
   "cell_type": "code",
   "execution_count": 114,
   "metadata": {},
   "outputs": [
    {
     "data": {
      "text/plain": [
       "US48    145640.568302\n",
       "dtype: float64"
      ]
     },
     "execution_count": 114,
     "metadata": {},
     "output_type": "execute_result"
    }
   ],
   "source": [
    "mae(pd.DataFrame(y.iloc[30000:]), model.predict(X[['US48.H24', 'year', 'month', 'dayOfMonth', 'dayOfWeek', 'hour']].iloc[30000:]))"
   ]
  },
  {
   "cell_type": "code",
   "execution_count": 115,
   "metadata": {},
   "outputs": [],
   "source": [
    "from sklearn.gaussian_process import GaussianProcessRegressor\n",
    "gpr = GaussianProcessRegressor()"
   ]
  },
  {
   "cell_type": "code",
   "execution_count": 116,
   "metadata": {},
   "outputs": [
    {
     "data": {
      "text/plain": [
       "GaussianProcessRegressor()"
      ]
     },
     "execution_count": 116,
     "metadata": {},
     "output_type": "execute_result"
    }
   ],
   "source": [
    "gpr.fit(pd.DataFrame(X[['US48.H24', 'year', 'month', 'dayOfMonth', 'dayOfWeek', 'hour']].iloc[:10000]),pd.DataFrame(y.iloc[:10000]))"
   ]
  },
  {
   "cell_type": "code",
   "execution_count": 117,
   "metadata": {},
   "outputs": [
    {
     "data": {
      "text/plain": [
       "-38.3404811313615"
      ]
     },
     "execution_count": 117,
     "metadata": {},
     "output_type": "execute_result"
    }
   ],
   "source": [
    "gpr.score(pd.DataFrame(X[['US48.H24', 'year', 'month', 'dayOfMonth', 'dayOfWeek', 'hour']].iloc[10000:]),pd.DataFrame(y.iloc[10000:]))"
   ]
  },
  {
   "cell_type": "code",
   "execution_count": 118,
   "metadata": {},
   "outputs": [],
   "source": [
    "from sklearn.ensemble import RandomForestRegressor"
   ]
  },
  {
   "cell_type": "code",
   "execution_count": 119,
   "metadata": {},
   "outputs": [
    {
     "data": {
      "text/plain": [
       "RandomForestRegressor()"
      ]
     },
     "execution_count": 119,
     "metadata": {},
     "output_type": "execute_result"
    }
   ],
   "source": [
    "rfr = RandomForestRegressor()\n",
    "rfr.fit(pd.DataFrame(X[['US48.H24', 'year', 'month', 'dayOfMonth', 'dayOfWeek', 'hour']].iloc[:10000]),pd.DataFrame(y.iloc[:10000]))"
   ]
  },
  {
   "cell_type": "code",
   "execution_count": 120,
   "metadata": {},
   "outputs": [
    {
     "data": {
      "text/plain": [
       "0.9465029986374449"
      ]
     },
     "execution_count": 120,
     "metadata": {},
     "output_type": "execute_result"
    }
   ],
   "source": [
    "rfr.score(pd.DataFrame(X[['US48.H24', 'year', 'month', 'dayOfMonth', 'dayOfWeek', 'hour']].iloc[10000:]),pd.DataFrame(y.iloc[10000:]))"
   ]
  },
  {
   "cell_type": "code",
   "execution_count": 121,
   "metadata": {},
   "outputs": [],
   "source": [
    "dtr = DecisionTreeRegressor()"
   ]
  },
  {
   "cell_type": "code",
   "execution_count": 122,
   "metadata": {},
   "outputs": [
    {
     "data": {
      "text/plain": [
       "DecisionTreeRegressor()"
      ]
     },
     "execution_count": 122,
     "metadata": {},
     "output_type": "execute_result"
    }
   ],
   "source": [
    "dtr.fit(pd.DataFrame(X[['US48.H24', 'year', 'month', 'dayOfMonth', 'dayOfWeek', 'hour']].iloc[:10000]),pd.DataFrame(y.iloc[:10000]))"
   ]
  },
  {
   "cell_type": "code",
   "execution_count": 123,
   "metadata": {},
   "outputs": [
    {
     "data": {
      "text/plain": [
       "0.910206120959909"
      ]
     },
     "execution_count": 123,
     "metadata": {},
     "output_type": "execute_result"
    }
   ],
   "source": [
    "dtr.score(pd.DataFrame(X[['US48.H24', 'year', 'month', 'dayOfMonth', 'dayOfWeek', 'hour']].iloc[30000:]),pd.DataFrame(y.iloc[30000:]))"
   ]
  },
  {
   "cell_type": "markdown",
   "metadata": {},
   "source": [
    "#### We need to evaluate the predictions we have from the EIA forecast to see how these models compare"
   ]
  },
  {
   "cell_type": "code",
   "execution_count": 124,
   "metadata": {},
   "outputs": [
    {
     "data": {
      "text/plain": [
       "(49300, 82)"
      ]
     },
     "execution_count": 124,
     "metadata": {},
     "output_type": "execute_result"
    }
   ],
   "source": [
    "forecast.shape"
   ]
  },
  {
   "cell_type": "code",
   "execution_count": 125,
   "metadata": {},
   "outputs": [],
   "source": [
    "diff = forecast.shape[0] - X.shape[0]"
   ]
  },
  {
   "cell_type": "code",
   "execution_count": 126,
   "metadata": {},
   "outputs": [
    {
     "data": {
      "text/plain": [
       "86"
      ]
     },
     "execution_count": 126,
     "metadata": {},
     "output_type": "execute_result"
    }
   ],
   "source": [
    "diff"
   ]
  },
  {
   "cell_type": "code",
   "execution_count": 127,
   "metadata": {},
   "outputs": [
    {
     "data": {
      "text/plain": [
       "(49214, 82)"
      ]
     },
     "execution_count": 127,
     "metadata": {},
     "output_type": "execute_result"
    }
   ],
   "source": [
    "forecast.iloc[86:].shape"
   ]
  },
  {
   "cell_type": "code",
   "execution_count": 128,
   "metadata": {},
   "outputs": [
    {
     "data": {
      "text/plain": [
       "0"
      ]
     },
     "execution_count": 128,
     "metadata": {},
     "output_type": "execute_result"
    }
   ],
   "source": [
    "y_F = forecast.iloc[72:-14].US48\n",
    "f = y_F.iloc[:-3] == 0\n",
    "f.apply(int).sum()\n",
    "#y_F.fillna(0, inplace=True)"
   ]
  },
  {
   "cell_type": "code",
   "execution_count": 129,
   "metadata": {},
   "outputs": [
    {
     "data": {
      "text/plain": [
       "0.9516541315775342"
      ]
     },
     "execution_count": 129,
     "metadata": {},
     "output_type": "execute_result"
    }
   ],
   "source": [
    "sklearn.metrics.r2_score(y[:], y_F[:])"
   ]
  },
  {
   "cell_type": "code",
   "execution_count": 130,
   "metadata": {},
   "outputs": [
    {
     "data": {
      "text/plain": [
       "453985.0"
      ]
     },
     "execution_count": 130,
     "metadata": {},
     "output_type": "execute_result"
    }
   ],
   "source": [
    "mae(y[:], y_F[:])"
   ]
  },
  {
   "cell_type": "code",
   "execution_count": 131,
   "metadata": {},
   "outputs": [
    {
     "data": {
      "text/plain": [
       "273886702.7563701"
      ]
     },
     "execution_count": 131,
     "metadata": {},
     "output_type": "execute_result"
    }
   ],
   "source": [
    "mean_squared_error(y, y_F)"
   ]
  },
  {
   "cell_type": "markdown",
   "metadata": {},
   "source": [
    "Grid search for a random forest regressor."
   ]
  },
  {
   "cell_type": "code",
   "execution_count": 132,
   "metadata": {},
   "outputs": [],
   "source": [
    "params = { \n",
    "    'n_estimators': [20, 50, 100],\n",
    "    'max_features': ['auto', 'sqrt', 'log2'],\n",
    "    'max_depth' : [i for i in range(5,15)]\n",
    "}\n",
    "tscv = TimeSeriesSplit(n_splits=10)\n",
    "gsearch = GridSearchCV(estimator=rfr, cv=tscv, param_grid=params, scoring = sklearn.metrics.make_scorer(sklearn.metrics.r2_score))\n",
    "gsearch.fit(pd.DataFrame(X[['US48.H24', 'year', 'month', 'dayOfMonth', 'dayOfWeek', 'hour']]),y)\n",
    "best_score = gsearch.best_score_\n",
    "best_model = gsearch.best_estimator_"
   ]
  },
  {
   "cell_type": "code",
   "execution_count": 133,
   "metadata": {},
   "outputs": [
    {
     "data": {
      "text/plain": [
       "0.9458187475684822"
      ]
     },
     "execution_count": 133,
     "metadata": {},
     "output_type": "execute_result"
    }
   ],
   "source": [
    "best_score"
   ]
  },
  {
   "cell_type": "markdown",
   "metadata": {},
   "source": [
    "Here is a plot of the best model from the grid search vs. the actual demand."
   ]
  },
  {
   "cell_type": "code",
   "execution_count": 137,
   "metadata": {},
   "outputs": [
    {
     "data": {
      "text/plain": [
       "<matplotlib.collections.PathCollection at 0x259680a87c0>"
      ]
     },
     "execution_count": 137,
     "metadata": {},
     "output_type": "execute_result"
    },
    {
     "data": {
      "image/png": "[encoded data removed]",
      "text/plain": [
       "<Figure size 432x288 with 1 Axes>"
      ]
     },
     "metadata": {
      "needs_background": "light"
     },
     "output_type": "display_data"
    }
   ],
   "source": [
    "plt.scatter(y, best_model.predict(X[['US48.H24', 'year', 'month', 'dayOfMonth', 'dayOfWeek', 'hour']]))"
   ]
  },
  {
   "cell_type": "code",
   "execution_count": null,
   "metadata": {},
   "outputs": [],
   "source": []
  }
 ],
 "metadata": {
  "kernelspec": {
   "display_name": "Python 3",
   "language": "python",
   "name": "python3"
  },
  "language_info": {
   "codemirror_mode": {
    "name": "ipython",
    "version": 3
   },
   "file_extension": ".py",
   "mimetype": "text/x-python",
   "name": "python",
   "nbconvert_exporter": "python",
   "pygments_lexer": "ipython3",
   "version": "3.8.5"
  }
 },
 "nbformat": 4,
 "nbformat_minor": 4
}
