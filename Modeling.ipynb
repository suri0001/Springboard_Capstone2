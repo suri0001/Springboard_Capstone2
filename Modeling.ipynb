{
 "cells": [
  {
   "cell_type": "code",
   "execution_count": 1,
   "metadata": {},
   "outputs": [],
   "source": [
    "import numpy as np\n",
    "import pandas as pd\n",
    "from fbprophet import Prophet\n",
    "from sklearn import metrics\n",
    "from sklearn.ensemble import RandomForestRegressor\n",
    "from sklearn.model_selection import GridSearchCV, RandomizedSearchCV\n",
    "from scipy.stats import uniform\n",
    "import copy\n",
    "#import warnings\n",
    "#warnings.filterwarnings('ignore')"
   ]
  },
  {
   "cell_type": "markdown",
   "metadata": {},
   "source": [
    "# Introduction\n",
    "\n",
    "The basis of the model will be the Facebook Prophet package. But, the first thing we need to do is load the preprocessed data.\n"
   ]
  },
  {
   "cell_type": "code",
   "execution_count": 2,
   "metadata": {},
   "outputs": [],
   "source": [
    "df = pd.read_csv(\"data/preprocessed.csv\")"
   ]
  },
  {
   "cell_type": "code",
   "execution_count": 3,
   "metadata": {},
   "outputs": [
    {
     "data": {
      "text/html": [
       "<div>\n",
       "<style scoped>\n",
       "    .dataframe tbody tr th:only-of-type {\n",
       "        vertical-align: middle;\n",
       "    }\n",
       "\n",
       "    .dataframe tbody tr th {\n",
       "        vertical-align: top;\n",
       "    }\n",
       "\n",
       "    .dataframe thead th {\n",
       "        text-align: right;\n",
       "    }\n",
       "</style>\n",
       "<table border=\"1\" class=\"dataframe\">\n",
       "  <thead>\n",
       "    <tr style=\"text-align: right;\">\n",
       "      <th></th>\n",
       "      <th>ds</th>\n",
       "      <th>y</th>\n",
       "    </tr>\n",
       "  </thead>\n",
       "  <tbody>\n",
       "    <tr>\n",
       "      <th>0</th>\n",
       "      <td>2015-07-01 05:00:00</td>\n",
       "      <td>162827.0</td>\n",
       "    </tr>\n",
       "    <tr>\n",
       "      <th>1</th>\n",
       "      <td>2015-07-01 06:00:00</td>\n",
       "      <td>335153.0</td>\n",
       "    </tr>\n",
       "    <tr>\n",
       "      <th>2</th>\n",
       "      <td>2015-07-01 07:00:00</td>\n",
       "      <td>333837.0</td>\n",
       "    </tr>\n",
       "    <tr>\n",
       "      <th>3</th>\n",
       "      <td>2015-07-01 08:00:00</td>\n",
       "      <td>398386.0</td>\n",
       "    </tr>\n",
       "    <tr>\n",
       "      <th>4</th>\n",
       "      <td>2015-07-01 09:00:00</td>\n",
       "      <td>388954.0</td>\n",
       "    </tr>\n",
       "  </tbody>\n",
       "</table>\n",
       "</div>"
      ],
      "text/plain": [
       "                    ds         y\n",
       "0  2015-07-01 05:00:00  162827.0\n",
       "1  2015-07-01 06:00:00  335153.0\n",
       "2  2015-07-01 07:00:00  333837.0\n",
       "3  2015-07-01 08:00:00  398386.0\n",
       "4  2015-07-01 09:00:00  388954.0"
      ]
     },
     "execution_count": 3,
     "metadata": {},
     "output_type": "execute_result"
    }
   ],
   "source": [
    "df = df[df.columns[1:]]\n",
    "df.head()"
   ]
  },
  {
   "cell_type": "markdown",
   "metadata": {},
   "source": [
    "Now we run the model with a 75-25 train test split."
   ]
  },
  {
   "cell_type": "code",
   "execution_count": 4,
   "metadata": {},
   "outputs": [
    {
     "data": {
      "text/plain": [
       "True"
      ]
     },
     "execution_count": 4,
     "metadata": {},
     "output_type": "execute_result"
    }
   ],
   "source": [
    "spoint = int(df.shape[0]*0.75)\n",
    "train_df = df.iloc[:spoint]\n",
    "test_df = df.iloc[spoint:]\n",
    "#Check split since I did it manually\n",
    "train_df.shape[0] + test_df.shape[0] == df.shape[0]"
   ]
  },
  {
   "cell_type": "markdown",
   "metadata": {},
   "source": [
    "Now we train the basic models"
   ]
  },
  {
   "cell_type": "code",
   "execution_count": 5,
   "metadata": {},
   "outputs": [
    {
     "name": "stderr",
     "output_type": "stream",
     "text": [
      "INFO:numexpr.utils:NumExpr defaulting to 8 threads.\n"
     ]
    },
    {
     "data": {
      "text/plain": [
       "<fbprophet.forecaster.Prophet at 0x2537cd07670>"
      ]
     },
     "execution_count": 5,
     "metadata": {},
     "output_type": "execute_result"
    }
   ],
   "source": [
    "model = Prophet()\n",
    "model.fit(train_df)"
   ]
  },
  {
   "cell_type": "code",
   "execution_count": 6,
   "metadata": {},
   "outputs": [
    {
     "data": {
      "text/html": [
       "<div>\n",
       "<style scoped>\n",
       "    .dataframe tbody tr th:only-of-type {\n",
       "        vertical-align: middle;\n",
       "    }\n",
       "\n",
       "    .dataframe tbody tr th {\n",
       "        vertical-align: top;\n",
       "    }\n",
       "\n",
       "    .dataframe thead th {\n",
       "        text-align: right;\n",
       "    }\n",
       "</style>\n",
       "<table border=\"1\" class=\"dataframe\">\n",
       "  <thead>\n",
       "    <tr style=\"text-align: right;\">\n",
       "      <th></th>\n",
       "      <th>ds</th>\n",
       "      <th>trend</th>\n",
       "      <th>yhat_lower</th>\n",
       "      <th>yhat_upper</th>\n",
       "      <th>trend_lower</th>\n",
       "      <th>trend_upper</th>\n",
       "      <th>additive_terms</th>\n",
       "      <th>additive_terms_lower</th>\n",
       "      <th>additive_terms_upper</th>\n",
       "      <th>daily</th>\n",
       "      <th>...</th>\n",
       "      <th>weekly</th>\n",
       "      <th>weekly_lower</th>\n",
       "      <th>weekly_upper</th>\n",
       "      <th>yearly</th>\n",
       "      <th>yearly_lower</th>\n",
       "      <th>yearly_upper</th>\n",
       "      <th>multiplicative_terms</th>\n",
       "      <th>multiplicative_terms_lower</th>\n",
       "      <th>multiplicative_terms_upper</th>\n",
       "      <th>yhat</th>\n",
       "    </tr>\n",
       "  </thead>\n",
       "  <tbody>\n",
       "    <tr>\n",
       "      <th>0</th>\n",
       "      <td>2015-07-01 05:00:00</td>\n",
       "      <td>432089.920648</td>\n",
       "      <td>424866.476908</td>\n",
       "      <td>516416.892919</td>\n",
       "      <td>432089.920648</td>\n",
       "      <td>432089.920648</td>\n",
       "      <td>38640.777508</td>\n",
       "      <td>38640.777508</td>\n",
       "      <td>38640.777508</td>\n",
       "      <td>-25279.942936</td>\n",
       "      <td>...</td>\n",
       "      <td>11005.316492</td>\n",
       "      <td>11005.316492</td>\n",
       "      <td>11005.316492</td>\n",
       "      <td>52915.403951</td>\n",
       "      <td>52915.403951</td>\n",
       "      <td>52915.403951</td>\n",
       "      <td>0.0</td>\n",
       "      <td>0.0</td>\n",
       "      <td>0.0</td>\n",
       "      <td>470730.698156</td>\n",
       "    </tr>\n",
       "    <tr>\n",
       "      <th>1</th>\n",
       "      <td>2015-07-01 06:00:00</td>\n",
       "      <td>432093.576126</td>\n",
       "      <td>402987.726504</td>\n",
       "      <td>496869.422091</td>\n",
       "      <td>432093.576126</td>\n",
       "      <td>432093.576126</td>\n",
       "      <td>16304.402767</td>\n",
       "      <td>16304.402767</td>\n",
       "      <td>16304.402767</td>\n",
       "      <td>-47721.157660</td>\n",
       "      <td>...</td>\n",
       "      <td>11030.513571</td>\n",
       "      <td>11030.513571</td>\n",
       "      <td>11030.513571</td>\n",
       "      <td>52995.046855</td>\n",
       "      <td>52995.046855</td>\n",
       "      <td>52995.046855</td>\n",
       "      <td>0.0</td>\n",
       "      <td>0.0</td>\n",
       "      <td>0.0</td>\n",
       "      <td>448397.978892</td>\n",
       "    </tr>\n",
       "    <tr>\n",
       "      <th>2</th>\n",
       "      <td>2015-07-01 07:00:00</td>\n",
       "      <td>432097.231603</td>\n",
       "      <td>384138.387691</td>\n",
       "      <td>477432.310472</td>\n",
       "      <td>432097.231603</td>\n",
       "      <td>432097.231603</td>\n",
       "      <td>-763.670208</td>\n",
       "      <td>-763.670208</td>\n",
       "      <td>-763.670208</td>\n",
       "      <td>-64916.221782</td>\n",
       "      <td>...</td>\n",
       "      <td>11077.716076</td>\n",
       "      <td>11077.716076</td>\n",
       "      <td>11077.716076</td>\n",
       "      <td>53074.835497</td>\n",
       "      <td>53074.835497</td>\n",
       "      <td>53074.835497</td>\n",
       "      <td>0.0</td>\n",
       "      <td>0.0</td>\n",
       "      <td>0.0</td>\n",
       "      <td>431333.561394</td>\n",
       "    </tr>\n",
       "    <tr>\n",
       "      <th>3</th>\n",
       "      <td>2015-07-01 08:00:00</td>\n",
       "      <td>432100.887080</td>\n",
       "      <td>369489.171976</td>\n",
       "      <td>467033.448455</td>\n",
       "      <td>432100.887080</td>\n",
       "      <td>432100.887080</td>\n",
       "      <td>-11441.822973</td>\n",
       "      <td>-11441.822973</td>\n",
       "      <td>-11441.822973</td>\n",
       "      <td>-75742.065391</td>\n",
       "      <td>...</td>\n",
       "      <td>11145.472993</td>\n",
       "      <td>11145.472993</td>\n",
       "      <td>11145.472993</td>\n",
       "      <td>53154.769424</td>\n",
       "      <td>53154.769424</td>\n",
       "      <td>53154.769424</td>\n",
       "      <td>0.0</td>\n",
       "      <td>0.0</td>\n",
       "      <td>0.0</td>\n",
       "      <td>420659.064106</td>\n",
       "    </tr>\n",
       "    <tr>\n",
       "      <th>4</th>\n",
       "      <td>2015-07-01 09:00:00</td>\n",
       "      <td>432104.542557</td>\n",
       "      <td>368381.786989</td>\n",
       "      <td>462543.527737</td>\n",
       "      <td>432104.542557</td>\n",
       "      <td>432104.542557</td>\n",
       "      <td>-14906.350065</td>\n",
       "      <td>-14906.350065</td>\n",
       "      <td>-14906.350065</td>\n",
       "      <td>-79373.208471</td>\n",
       "      <td>...</td>\n",
       "      <td>11232.010233</td>\n",
       "      <td>11232.010233</td>\n",
       "      <td>11232.010233</td>\n",
       "      <td>53234.848173</td>\n",
       "      <td>53234.848173</td>\n",
       "      <td>53234.848173</td>\n",
       "      <td>0.0</td>\n",
       "      <td>0.0</td>\n",
       "      <td>0.0</td>\n",
       "      <td>417198.192492</td>\n",
       "    </tr>\n",
       "  </tbody>\n",
       "</table>\n",
       "<p>5 rows × 22 columns</p>\n",
       "</div>"
      ],
      "text/plain": [
       "                   ds          trend     yhat_lower     yhat_upper  \\\n",
       "0 2015-07-01 05:00:00  432089.920648  424866.476908  516416.892919   \n",
       "1 2015-07-01 06:00:00  432093.576126  402987.726504  496869.422091   \n",
       "2 2015-07-01 07:00:00  432097.231603  384138.387691  477432.310472   \n",
       "3 2015-07-01 08:00:00  432100.887080  369489.171976  467033.448455   \n",
       "4 2015-07-01 09:00:00  432104.542557  368381.786989  462543.527737   \n",
       "\n",
       "     trend_lower    trend_upper  additive_terms  additive_terms_lower  \\\n",
       "0  432089.920648  432089.920648    38640.777508          38640.777508   \n",
       "1  432093.576126  432093.576126    16304.402767          16304.402767   \n",
       "2  432097.231603  432097.231603     -763.670208           -763.670208   \n",
       "3  432100.887080  432100.887080   -11441.822973         -11441.822973   \n",
       "4  432104.542557  432104.542557   -14906.350065         -14906.350065   \n",
       "\n",
       "   additive_terms_upper         daily  ...        weekly  weekly_lower  \\\n",
       "0          38640.777508 -25279.942936  ...  11005.316492  11005.316492   \n",
       "1          16304.402767 -47721.157660  ...  11030.513571  11030.513571   \n",
       "2           -763.670208 -64916.221782  ...  11077.716076  11077.716076   \n",
       "3         -11441.822973 -75742.065391  ...  11145.472993  11145.472993   \n",
       "4         -14906.350065 -79373.208471  ...  11232.010233  11232.010233   \n",
       "\n",
       "   weekly_upper        yearly  yearly_lower  yearly_upper  \\\n",
       "0  11005.316492  52915.403951  52915.403951  52915.403951   \n",
       "1  11030.513571  52995.046855  52995.046855  52995.046855   \n",
       "2  11077.716076  53074.835497  53074.835497  53074.835497   \n",
       "3  11145.472993  53154.769424  53154.769424  53154.769424   \n",
       "4  11232.010233  53234.848173  53234.848173  53234.848173   \n",
       "\n",
       "   multiplicative_terms  multiplicative_terms_lower  \\\n",
       "0                   0.0                         0.0   \n",
       "1                   0.0                         0.0   \n",
       "2                   0.0                         0.0   \n",
       "3                   0.0                         0.0   \n",
       "4                   0.0                         0.0   \n",
       "\n",
       "   multiplicative_terms_upper           yhat  \n",
       "0                         0.0  470730.698156  \n",
       "1                         0.0  448397.978892  \n",
       "2                         0.0  431333.561394  \n",
       "3                         0.0  420659.064106  \n",
       "4                         0.0  417198.192492  \n",
       "\n",
       "[5 rows x 22 columns]"
      ]
     },
     "execution_count": 6,
     "metadata": {},
     "output_type": "execute_result"
    }
   ],
   "source": [
    "eval_df = model.predict(pd.DataFrame(train_df['ds']))\n",
    "eval_df.head()"
   ]
  },
  {
   "cell_type": "code",
   "execution_count": 7,
   "metadata": {},
   "outputs": [
    {
     "name": "stdout",
     "output_type": "stream",
     "text": [
      "0.7824039517999025 0.687577002082496 0.7638128022011801\n"
     ]
    }
   ],
   "source": [
    "print(metrics.r2_score(train_df['y'], model.predict(pd.DataFrame(train_df['ds'])).yhat), \n",
    "      metrics.r2_score(test_df['y'],model.predict(pd.DataFrame(test_df['ds'])).yhat), \n",
    "      metrics.r2_score(df['y'], model.predict(pd.DataFrame(df['ds'])).yhat))"
   ]
  },
  {
   "cell_type": "markdown",
   "metadata": {},
   "source": [
    "As expected, the model does the best on the training set with noticably worse performance on the test set. Prophet is performing worse than the random forest model from the EDA, so we are going to combine it with the random forest model to improve the accuracy when compared against either."
   ]
  },
  {
   "cell_type": "code",
   "execution_count": 8,
   "metadata": {},
   "outputs": [],
   "source": [
    "rfr = RandomForestRegressor()"
   ]
  },
  {
   "cell_type": "code",
   "execution_count": 9,
   "metadata": {},
   "outputs": [
    {
     "data": {
      "text/html": [
       "<div>\n",
       "<style scoped>\n",
       "    .dataframe tbody tr th:only-of-type {\n",
       "        vertical-align: middle;\n",
       "    }\n",
       "\n",
       "    .dataframe tbody tr th {\n",
       "        vertical-align: top;\n",
       "    }\n",
       "\n",
       "    .dataframe thead th {\n",
       "        text-align: right;\n",
       "    }\n",
       "</style>\n",
       "<table border=\"1\" class=\"dataframe\">\n",
       "  <thead>\n",
       "    <tr style=\"text-align: right;\">\n",
       "      <th></th>\n",
       "      <th>ds</th>\n",
       "      <th>y</th>\n",
       "      <th>sy</th>\n",
       "      <th>ssy</th>\n",
       "    </tr>\n",
       "  </thead>\n",
       "  <tbody>\n",
       "    <tr>\n",
       "      <th>0</th>\n",
       "      <td>2015-07-01 05:00:00</td>\n",
       "      <td>162827.0</td>\n",
       "      <td>453284.0</td>\n",
       "      <td>440084.0</td>\n",
       "    </tr>\n",
       "    <tr>\n",
       "      <th>1</th>\n",
       "      <td>2015-07-01 06:00:00</td>\n",
       "      <td>335153.0</td>\n",
       "      <td>429199.0</td>\n",
       "      <td>415203.0</td>\n",
       "    </tr>\n",
       "    <tr>\n",
       "      <th>2</th>\n",
       "      <td>2015-07-01 07:00:00</td>\n",
       "      <td>333837.0</td>\n",
       "      <td>407007.0</td>\n",
       "      <td>394227.0</td>\n",
       "    </tr>\n",
       "    <tr>\n",
       "      <th>3</th>\n",
       "      <td>2015-07-01 08:00:00</td>\n",
       "      <td>398386.0</td>\n",
       "      <td>395194.0</td>\n",
       "      <td>383147.0</td>\n",
       "    </tr>\n",
       "    <tr>\n",
       "      <th>4</th>\n",
       "      <td>2015-07-01 09:00:00</td>\n",
       "      <td>388954.0</td>\n",
       "      <td>387654.0</td>\n",
       "      <td>373941.0</td>\n",
       "    </tr>\n",
       "    <tr>\n",
       "      <th>5</th>\n",
       "      <td>2015-07-01 10:00:00</td>\n",
       "      <td>392487.0</td>\n",
       "      <td>390157.0</td>\n",
       "      <td>371552.0</td>\n",
       "    </tr>\n",
       "    <tr>\n",
       "      <th>6</th>\n",
       "      <td>2015-07-01 11:00:00</td>\n",
       "      <td>404647.0</td>\n",
       "      <td>401643.0</td>\n",
       "      <td>373312.0</td>\n",
       "    </tr>\n",
       "    <tr>\n",
       "      <th>7</th>\n",
       "      <td>2015-07-01 12:00:00</td>\n",
       "      <td>422227.0</td>\n",
       "      <td>417369.0</td>\n",
       "      <td>380160.0</td>\n",
       "    </tr>\n",
       "    <tr>\n",
       "      <th>8</th>\n",
       "      <td>2015-07-01 13:00:00</td>\n",
       "      <td>442131.0</td>\n",
       "      <td>437741.0</td>\n",
       "      <td>396051.0</td>\n",
       "    </tr>\n",
       "    <tr>\n",
       "      <th>9</th>\n",
       "      <td>2015-07-01 14:00:00</td>\n",
       "      <td>464371.0</td>\n",
       "      <td>459562.0</td>\n",
       "      <td>418789.0</td>\n",
       "    </tr>\n",
       "    <tr>\n",
       "      <th>10</th>\n",
       "      <td>2015-07-01 15:00:00</td>\n",
       "      <td>491512.0</td>\n",
       "      <td>485186.0</td>\n",
       "      <td>444329.0</td>\n",
       "    </tr>\n",
       "    <tr>\n",
       "      <th>11</th>\n",
       "      <td>2015-07-01 16:00:00</td>\n",
       "      <td>518043.0</td>\n",
       "      <td>509369.0</td>\n",
       "      <td>466734.0</td>\n",
       "    </tr>\n",
       "    <tr>\n",
       "      <th>12</th>\n",
       "      <td>2015-07-01 17:00:00</td>\n",
       "      <td>540514.0</td>\n",
       "      <td>529809.0</td>\n",
       "      <td>487268.0</td>\n",
       "    </tr>\n",
       "    <tr>\n",
       "      <th>13</th>\n",
       "      <td>2015-07-01 18:00:00</td>\n",
       "      <td>560701.0</td>\n",
       "      <td>546611.0</td>\n",
       "      <td>504422.0</td>\n",
       "    </tr>\n",
       "    <tr>\n",
       "      <th>14</th>\n",
       "      <td>2015-07-01 19:00:00</td>\n",
       "      <td>576400.0</td>\n",
       "      <td>558445.0</td>\n",
       "      <td>518545.0</td>\n",
       "    </tr>\n",
       "    <tr>\n",
       "      <th>15</th>\n",
       "      <td>2015-07-01 20:00:00</td>\n",
       "      <td>587405.0</td>\n",
       "      <td>565833.0</td>\n",
       "      <td>528781.0</td>\n",
       "    </tr>\n",
       "    <tr>\n",
       "      <th>16</th>\n",
       "      <td>2015-07-01 21:00:00</td>\n",
       "      <td>594477.0</td>\n",
       "      <td>569351.0</td>\n",
       "      <td>536381.0</td>\n",
       "    </tr>\n",
       "    <tr>\n",
       "      <th>17</th>\n",
       "      <td>2015-07-01 22:00:00</td>\n",
       "      <td>595242.0</td>\n",
       "      <td>569616.0</td>\n",
       "      <td>539823.0</td>\n",
       "    </tr>\n",
       "    <tr>\n",
       "      <th>18</th>\n",
       "      <td>2015-07-01 23:00:00</td>\n",
       "      <td>586317.0</td>\n",
       "      <td>561747.0</td>\n",
       "      <td>534988.0</td>\n",
       "    </tr>\n",
       "    <tr>\n",
       "      <th>19</th>\n",
       "      <td>2015-07-02 00:00:00</td>\n",
       "      <td>572656.0</td>\n",
       "      <td>549867.0</td>\n",
       "      <td>523996.0</td>\n",
       "    </tr>\n",
       "    <tr>\n",
       "      <th>20</th>\n",
       "      <td>2015-07-02 01:00:00</td>\n",
       "      <td>554682.0</td>\n",
       "      <td>533110.0</td>\n",
       "      <td>510066.0</td>\n",
       "    </tr>\n",
       "    <tr>\n",
       "      <th>21</th>\n",
       "      <td>2015-07-02 02:00:00</td>\n",
       "      <td>543332.0</td>\n",
       "      <td>522864.0</td>\n",
       "      <td>500554.0</td>\n",
       "    </tr>\n",
       "    <tr>\n",
       "      <th>22</th>\n",
       "      <td>2015-07-02 03:00:00</td>\n",
       "      <td>520871.0</td>\n",
       "      <td>501272.0</td>\n",
       "      <td>482726.0</td>\n",
       "    </tr>\n",
       "    <tr>\n",
       "      <th>23</th>\n",
       "      <td>2015-07-02 04:00:00</td>\n",
       "      <td>485722.0</td>\n",
       "      <td>470322.0</td>\n",
       "      <td>455366.0</td>\n",
       "    </tr>\n",
       "    <tr>\n",
       "      <th>24</th>\n",
       "      <td>2015-07-02 05:00:00</td>\n",
       "      <td>453284.0</td>\n",
       "      <td>440084.0</td>\n",
       "      <td>428928.0</td>\n",
       "    </tr>\n",
       "  </tbody>\n",
       "</table>\n",
       "</div>"
      ],
      "text/plain": [
       "                     ds         y        sy       ssy\n",
       "0   2015-07-01 05:00:00  162827.0  453284.0  440084.0\n",
       "1   2015-07-01 06:00:00  335153.0  429199.0  415203.0\n",
       "2   2015-07-01 07:00:00  333837.0  407007.0  394227.0\n",
       "3   2015-07-01 08:00:00  398386.0  395194.0  383147.0\n",
       "4   2015-07-01 09:00:00  388954.0  387654.0  373941.0\n",
       "5   2015-07-01 10:00:00  392487.0  390157.0  371552.0\n",
       "6   2015-07-01 11:00:00  404647.0  401643.0  373312.0\n",
       "7   2015-07-01 12:00:00  422227.0  417369.0  380160.0\n",
       "8   2015-07-01 13:00:00  442131.0  437741.0  396051.0\n",
       "9   2015-07-01 14:00:00  464371.0  459562.0  418789.0\n",
       "10  2015-07-01 15:00:00  491512.0  485186.0  444329.0\n",
       "11  2015-07-01 16:00:00  518043.0  509369.0  466734.0\n",
       "12  2015-07-01 17:00:00  540514.0  529809.0  487268.0\n",
       "13  2015-07-01 18:00:00  560701.0  546611.0  504422.0\n",
       "14  2015-07-01 19:00:00  576400.0  558445.0  518545.0\n",
       "15  2015-07-01 20:00:00  587405.0  565833.0  528781.0\n",
       "16  2015-07-01 21:00:00  594477.0  569351.0  536381.0\n",
       "17  2015-07-01 22:00:00  595242.0  569616.0  539823.0\n",
       "18  2015-07-01 23:00:00  586317.0  561747.0  534988.0\n",
       "19  2015-07-02 00:00:00  572656.0  549867.0  523996.0\n",
       "20  2015-07-02 01:00:00  554682.0  533110.0  510066.0\n",
       "21  2015-07-02 02:00:00  543332.0  522864.0  500554.0\n",
       "22  2015-07-02 03:00:00  520871.0  501272.0  482726.0\n",
       "23  2015-07-02 04:00:00  485722.0  470322.0  455366.0\n",
       "24  2015-07-02 05:00:00  453284.0  440084.0  428928.0"
      ]
     },
     "execution_count": 9,
     "metadata": {},
     "output_type": "execute_result"
    }
   ],
   "source": [
    "sdf = pd.DataFrame(df)\n",
    "sdf['sy'] = sdf.y.shift(-24)\n",
    "sdf['ssy'] = sdf.y.shift(-48)\n",
    "sdf = sdf.iloc[:-48]\n",
    "sdf.head(25)"
   ]
  },
  {
   "cell_type": "code",
   "execution_count": 23,
   "metadata": {},
   "outputs": [
    {
     "data": {
      "text/html": [
       "<div>\n",
       "<style scoped>\n",
       "    .dataframe tbody tr th:only-of-type {\n",
       "        vertical-align: middle;\n",
       "    }\n",
       "\n",
       "    .dataframe tbody tr th {\n",
       "        vertical-align: top;\n",
       "    }\n",
       "\n",
       "    .dataframe thead th {\n",
       "        text-align: right;\n",
       "    }\n",
       "</style>\n",
       "<table border=\"1\" class=\"dataframe\">\n",
       "  <thead>\n",
       "    <tr style=\"text-align: right;\">\n",
       "      <th></th>\n",
       "      <th>y</th>\n",
       "      <th>sy</th>\n",
       "    </tr>\n",
       "  </thead>\n",
       "  <tbody>\n",
       "    <tr>\n",
       "      <th>0</th>\n",
       "      <td>162827.0</td>\n",
       "      <td>453284.0</td>\n",
       "    </tr>\n",
       "    <tr>\n",
       "      <th>1</th>\n",
       "      <td>335153.0</td>\n",
       "      <td>429199.0</td>\n",
       "    </tr>\n",
       "    <tr>\n",
       "      <th>2</th>\n",
       "      <td>333837.0</td>\n",
       "      <td>407007.0</td>\n",
       "    </tr>\n",
       "    <tr>\n",
       "      <th>3</th>\n",
       "      <td>398386.0</td>\n",
       "      <td>395194.0</td>\n",
       "    </tr>\n",
       "    <tr>\n",
       "      <th>4</th>\n",
       "      <td>388954.0</td>\n",
       "      <td>387654.0</td>\n",
       "    </tr>\n",
       "  </tbody>\n",
       "</table>\n",
       "</div>"
      ],
      "text/plain": [
       "          y        sy\n",
       "0  162827.0  453284.0\n",
       "1  335153.0  429199.0\n",
       "2  333837.0  407007.0\n",
       "3  398386.0  395194.0\n",
       "4  388954.0  387654.0"
      ]
     },
     "execution_count": 23,
     "metadata": {},
     "output_type": "execute_result"
    }
   ],
   "source": [
    "spoint = int(0.75*sdf.shape[0])\n",
    "X_train, X_test, y_train, y_test = sdf[['y', 'sy']].iloc[:spoint], sdf[['y', 'sy']].iloc[spoint:], sdf.ssy.iloc[:spoint], sdf.ssy.iloc[spoint:]\n",
    "X_train.shape, y_test.shape\n",
    "X_train.head()"
   ]
  },
  {
   "cell_type": "code",
   "execution_count": 11,
   "metadata": {},
   "outputs": [
    {
     "data": {
      "text/plain": [
       "RandomForestRegressor()"
      ]
     },
     "execution_count": 11,
     "metadata": {},
     "output_type": "execute_result"
    }
   ],
   "source": [
    "rfr.fit(np.array(X_train), y_train)\n"
   ]
  },
  {
   "cell_type": "code",
   "execution_count": 12,
   "metadata": {},
   "outputs": [],
   "source": [
    "#use the scores on the trainging data set to determine weights for adding the models together\n",
    "rf_score = metrics.r2_score(y_train, np.array(rfr.predict(np.array(X_train))))\n",
    "p_score = metrics.r2_score(train_df['y'],model.predict(pd.DataFrame(train_df['ds'])).yhat)"
   ]
  },
  {
   "cell_type": "code",
   "execution_count": 29,
   "metadata": {},
   "outputs": [],
   "source": [
    "score_sum = rf_score+p_score\n",
    "def combine_predict(X):\n",
    "    return (p_score*model.predict(pd.DataFrame(X['ds'])).yhat + rf_score*rfr.predict(X[['y', 'sy']]))/score_sum\n"
   ]
  },
  {
   "cell_type": "code",
   "execution_count": 30,
   "metadata": {},
   "outputs": [],
   "source": [
    "#prep_df = pd.DataFrame()\n",
    "ds_train, ds_test = sdf.ds.iloc[:int(0.75*sdf.shape[0])], sdf.ds.iloc[int(0.75*sdf.shape[0]):]\n",
    "y_test = sdf.sy.iloc[int(0.75*sdf.shape[0]):]\n",
    "prep_df = pd.concat([pd.DataFrame(ds_test), X_test], axis=1)"
   ]
  },
  {
   "cell_type": "code",
   "execution_count": 31,
   "metadata": {},
   "outputs": [
    {
     "data": {
      "text/html": [
       "<div>\n",
       "<style scoped>\n",
       "    .dataframe tbody tr th:only-of-type {\n",
       "        vertical-align: middle;\n",
       "    }\n",
       "\n",
       "    .dataframe tbody tr th {\n",
       "        vertical-align: top;\n",
       "    }\n",
       "\n",
       "    .dataframe thead th {\n",
       "        text-align: right;\n",
       "    }\n",
       "</style>\n",
       "<table border=\"1\" class=\"dataframe\">\n",
       "  <thead>\n",
       "    <tr style=\"text-align: right;\">\n",
       "      <th></th>\n",
       "      <th>ds</th>\n",
       "      <th>y</th>\n",
       "      <th>sy</th>\n",
       "    </tr>\n",
       "  </thead>\n",
       "  <tbody>\n",
       "    <tr>\n",
       "      <th>36928</th>\n",
       "      <td>2019-09-16 21:00:00</td>\n",
       "      <td>629377.0</td>\n",
       "      <td>610432.0</td>\n",
       "    </tr>\n",
       "    <tr>\n",
       "      <th>36929</th>\n",
       "      <td>2019-09-16 22:00:00</td>\n",
       "      <td>632197.0</td>\n",
       "      <td>613776.0</td>\n",
       "    </tr>\n",
       "    <tr>\n",
       "      <th>36930</th>\n",
       "      <td>2019-09-16 23:00:00</td>\n",
       "      <td>623839.0</td>\n",
       "      <td>605297.0</td>\n",
       "    </tr>\n",
       "    <tr>\n",
       "      <th>36931</th>\n",
       "      <td>2019-09-17 00:00:00</td>\n",
       "      <td>608889.0</td>\n",
       "      <td>591760.0</td>\n",
       "    </tr>\n",
       "    <tr>\n",
       "      <th>36932</th>\n",
       "      <td>2019-09-17 01:00:00</td>\n",
       "      <td>593786.0</td>\n",
       "      <td>578988.0</td>\n",
       "    </tr>\n",
       "  </tbody>\n",
       "</table>\n",
       "</div>"
      ],
      "text/plain": [
       "                        ds         y        sy\n",
       "36928  2019-09-16 21:00:00  629377.0  610432.0\n",
       "36929  2019-09-16 22:00:00  632197.0  613776.0\n",
       "36930  2019-09-16 23:00:00  623839.0  605297.0\n",
       "36931  2019-09-17 00:00:00  608889.0  591760.0\n",
       "36932  2019-09-17 01:00:00  593786.0  578988.0"
      ]
     },
     "execution_count": 31,
     "metadata": {},
     "output_type": "execute_result"
    }
   ],
   "source": [
    "prep_df.head()"
   ]
  },
  {
   "cell_type": "code",
   "execution_count": 32,
   "metadata": {},
   "outputs": [],
   "source": [
    "pred_df = combine_predict(prep_df)"
   ]
  },
  {
   "cell_type": "code",
   "execution_count": 33,
   "metadata": {},
   "outputs": [],
   "source": [
    "comb_score = metrics.r2_score(y_test, pred_df)"
   ]
  },
  {
   "cell_type": "code",
   "execution_count": 36,
   "metadata": {},
   "outputs": [
    {
     "data": {
      "text/html": [
       "<div>\n",
       "<style scoped>\n",
       "    .dataframe tbody tr th:only-of-type {\n",
       "        vertical-align: middle;\n",
       "    }\n",
       "\n",
       "    .dataframe tbody tr th {\n",
       "        vertical-align: top;\n",
       "    }\n",
       "\n",
       "    .dataframe thead th {\n",
       "        text-align: right;\n",
       "    }\n",
       "</style>\n",
       "<table border=\"1\" class=\"dataframe\">\n",
       "  <thead>\n",
       "    <tr style=\"text-align: right;\">\n",
       "      <th></th>\n",
       "      <th>y</th>\n",
       "      <th>sy</th>\n",
       "    </tr>\n",
       "  </thead>\n",
       "  <tbody>\n",
       "    <tr>\n",
       "      <th>36928</th>\n",
       "      <td>629377.0</td>\n",
       "      <td>610432.0</td>\n",
       "    </tr>\n",
       "    <tr>\n",
       "      <th>36929</th>\n",
       "      <td>632197.0</td>\n",
       "      <td>613776.0</td>\n",
       "    </tr>\n",
       "    <tr>\n",
       "      <th>36930</th>\n",
       "      <td>623839.0</td>\n",
       "      <td>605297.0</td>\n",
       "    </tr>\n",
       "    <tr>\n",
       "      <th>36931</th>\n",
       "      <td>608889.0</td>\n",
       "      <td>591760.0</td>\n",
       "    </tr>\n",
       "    <tr>\n",
       "      <th>36932</th>\n",
       "      <td>593786.0</td>\n",
       "      <td>578988.0</td>\n",
       "    </tr>\n",
       "  </tbody>\n",
       "</table>\n",
       "</div>"
      ],
      "text/plain": [
       "              y        sy\n",
       "36928  629377.0  610432.0\n",
       "36929  632197.0  613776.0\n",
       "36930  623839.0  605297.0\n",
       "36931  608889.0  591760.0\n",
       "36932  593786.0  578988.0"
      ]
     },
     "execution_count": 36,
     "metadata": {},
     "output_type": "execute_result"
    }
   ],
   "source": [
    "X_test.head()"
   ]
  },
  {
   "cell_type": "code",
   "execution_count": 38,
   "metadata": {},
   "outputs": [
    {
     "data": {
      "text/plain": [
       "(0.687577002082496, 0.96882272298543, 0.9178731065886694)"
      ]
     },
     "execution_count": 38,
     "metadata": {},
     "output_type": "execute_result"
    }
   ],
   "source": [
    "#set r2_scores to those for the test set for comparision\n",
    "rf_score = metrics.r2_score(y_test, np.array(rfr.predict((X_test[['y','sy']]))))\n",
    "p_score = metrics.r2_score(test_df['y'],model.predict(pd.DataFrame(test_df['ds'])).yhat)\n",
    "p_score, rf_score, comb_score"
   ]
  },
  {
   "cell_type": "markdown",
   "metadata": {},
   "source": [
    "The combine model has a worse?? score in the test set than the RandomForestRegressor. We will now create a class to find optimal hyper-parameters and save the model with."
   ]
  },
  {
   "cell_type": "code",
   "execution_count": 49,
   "metadata": {},
   "outputs": [],
   "source": [
    "rfr = RandomForestRegressor()\n",
    "rf_params = {'n_estimators' : list(range(100, 501, 100)),\n",
    "                    'criterion' : ['mse','mae'],\n",
    "                     'max_depth' : [10],\n",
    "                    'max_features' : ['auto', 'sqrt']}\n",
    "rscv = RandomizedSearchCV(rfr, rf_params, n_iter=2)\n",
    "rscv.fit(X_train,y_train)\n",
    "rfr = rscv.best_estimator_"
   ]
  },
  {
   "cell_type": "code",
   "execution_count": 50,
   "metadata": {},
   "outputs": [],
   "source": [
    "rf_score = rscv.best_score_"
   ]
  },
  {
   "cell_type": "code",
   "execution_count": 51,
   "metadata": {},
   "outputs": [],
   "source": [
    "rfr = rscv.best_estimator_"
   ]
  },
  {
   "cell_type": "code",
   "execution_count": 52,
   "metadata": {},
   "outputs": [
    {
     "data": {
      "text/plain": [
       "0.5946014280506553"
      ]
     },
     "execution_count": 52,
     "metadata": {},
     "output_type": "execute_result"
    }
   ],
   "source": [
    "pred_df = combine_predict(prep_df)\n",
    "metrics.r2_score(y_test, pred_df)"
   ]
  },
  {
   "cell_type": "markdown",
   "metadata": {},
   "source": [
    "This is sad..."
   ]
  },
  {
   "cell_type": "code",
   "execution_count": 53,
   "metadata": {},
   "outputs": [
    {
     "data": {
      "text/plain": [
       "0.9873837279672111"
      ]
     },
     "execution_count": 53,
     "metadata": {},
     "output_type": "execute_result"
    }
   ],
   "source": [
    "metrics.r2_score(rfr.predict(X_test), y_test)"
   ]
  },
  {
   "cell_type": "markdown",
   "metadata": {},
   "source": [
    "Clearly, we should just save the optimized Random Forest Regressor at this point and forget about Facebook's Prophet. It was a nice idea, but it didn't pan out in this case."
   ]
  },
  {
   "cell_type": "code",
   "execution_count": 54,
   "metadata": {},
   "outputs": [],
   "source": [
    "import pickle\n",
    "with open('model.pkl', 'wb') as f:\n",
    "    pickle.dump(rfr, f)"
   ]
  },
  {
   "cell_type": "code",
   "execution_count": null,
   "metadata": {},
   "outputs": [],
   "source": []
  }
 ],
 "metadata": {
  "kernelspec": {
   "display_name": "Python 3",
   "language": "python",
   "name": "python3"
  },
  "language_info": {
   "codemirror_mode": {
    "name": "ipython",
    "version": 3
   },
   "file_extension": ".py",
   "mimetype": "text/x-python",
   "name": "python",
   "nbconvert_exporter": "python",
   "pygments_lexer": "ipython3",
   "version": "3.8.5"
  }
 },
 "nbformat": 4,
 "nbformat_minor": 4
}
